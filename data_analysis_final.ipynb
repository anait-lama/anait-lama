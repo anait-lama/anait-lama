{
 "cells": [
  {
   "cell_type": "markdown",
   "metadata": {},
   "source": [
    "# Analysis of consumer behaviour in \"Unnecessary things\" mobile app"
   ]
  },
  {
   "cell_type": "markdown",
   "metadata": {},
   "source": [
    "#### Additional materials (in Russian):\n",
    "\n",
    "Tableau Dashboard: https://public.tableau.com/views/Final_project_16512182241420/sheet3?:language=en-GB&publish=yes&:display_count=n&:origin=viz_share_link\n",
    "\n",
    "Presentation: https://disk.yandex.ru/d/IEEpraohosMHtA\n"
   ]
  },
  {
   "cell_type": "markdown",
   "metadata": {},
   "source": [
    "The purpose of our project is to analyse the consumer behaviour in the \"Unnecessary things\" mobile app based on datasets `mobile_dataset.csv` and `mobile_soures.csv` which contain information about users who performed any actions in the mobile app since October 7th, 2019.\n",
    "\n",
    "The mobile app developers introduced a new feature that allows seeing the contatcs list (`contacts_show`) and we will use it as a key feature. In the process of our analysis, we will determine the influence of other steps on the key feature; we will see what other steps did the user perform along with the key one, and we will text two hypotheses. Our project is divided into the following parts:"
   ]
  },
  {
   "cell_type": "markdown",
   "metadata": {},
   "source": [
    "<a href='#1'> 1. Data preprocessing </a>\n",
    "\n",
    "<a href='#2'> 2. Data analysis </a>\n",
    "\n",
    "2.1 What are the download sources?\n",
    "\n",
    "2.2 What steps can users perform in the app?\n",
    "\n",
    "2.3 What is the average and median session duration? \n",
    "\n",
    "2.4 How many users performed the key feature event? What percentage of the total amount of users do they comprise? \n",
    "\n",
    "2.5 Calculation of retention rate, DAU\\WAU for the key feature;\n",
    "\n",
    "<a href='#3'> 3. Analysis of `contacts_show` key feature </a>\n",
    "\n",
    "3.1 What other steps do users that performed the key feature step perform?\n",
    "\n",
    "3.2 What steps do the users perform before the key feature step (what are the scenarios of app usage)?\n",
    "\n",
    "3.3 After how much time after the last step from p.3.2 is the key feature step performed?\n",
    "\n",
    "<a href='#4'> 4. Hypothesis test </a>\n",
    "\n",
    "4.1 Conversion to see contacts is different among users who perform both `tips_show` and `tips_click`  and users who only perform `tips_show`.\n",
    "\n",
    "4.2 Conversion to see contacts is different among users who downloaded the app from `yandex` source and `google` source.\n",
    "\n",
    "<a href='#5'> 5. Conclusion </a>"
   ]
  },
  {
   "cell_type": "markdown",
   "metadata": {},
   "source": [
    "<a id='1'></a> \n",
    "### 1. Data preprocessing"
   ]
  },
  {
   "cell_type": "code",
   "execution_count": 1,
   "metadata": {},
   "outputs": [],
   "source": [
    "#import libraries\n",
    "import pandas as pd\n",
    "from datetime import datetime\n",
    "import matplotlib.pyplot as plt\n",
    "import seaborn as sns\n",
    "import numpy as np\n",
    "import warnings\n",
    "warnings.filterwarnings('ignore')\n",
    "from scipy import stats as st\n",
    "from statsmodels.stats.proportion import proportions_ztest"
   ]
  },
  {
   "cell_type": "code",
   "execution_count": 5,
   "metadata": {},
   "outputs": [
    {
     "name": "stdout",
     "output_type": "stream",
     "text": [
      "Duplicate check:\n",
      "0\n",
      "0\n"
     ]
    },
    {
     "data": {
      "text/html": [
       "<div>\n",
       "<style scoped>\n",
       "    .dataframe tbody tr th:only-of-type {\n",
       "        vertical-align: middle;\n",
       "    }\n",
       "\n",
       "    .dataframe tbody tr th {\n",
       "        vertical-align: top;\n",
       "    }\n",
       "\n",
       "    .dataframe thead th {\n",
       "        text-align: right;\n",
       "    }\n",
       "</style>\n",
       "<table border=\"1\" class=\"dataframe\">\n",
       "  <thead>\n",
       "    <tr style=\"text-align: right;\">\n",
       "      <th></th>\n",
       "      <th>Unnamed: 0</th>\n",
       "      <th>event.time</th>\n",
       "      <th>event.name</th>\n",
       "      <th>user.id</th>\n",
       "    </tr>\n",
       "  </thead>\n",
       "  <tbody>\n",
       "    <tr>\n",
       "      <th>0</th>\n",
       "      <td>0</td>\n",
       "      <td>2019-10-07 00:00:00.431357</td>\n",
       "      <td>advert_open</td>\n",
       "      <td>020292ab-89bc-4156-9acf-68bc2783f894</td>\n",
       "    </tr>\n",
       "    <tr>\n",
       "      <th>1</th>\n",
       "      <td>1</td>\n",
       "      <td>2019-10-07 00:00:01.236320</td>\n",
       "      <td>tips_show</td>\n",
       "      <td>020292ab-89bc-4156-9acf-68bc2783f894</td>\n",
       "    </tr>\n",
       "    <tr>\n",
       "      <th>2</th>\n",
       "      <td>2</td>\n",
       "      <td>2019-10-07 00:00:02.245341</td>\n",
       "      <td>tips_show</td>\n",
       "      <td>cf7eda61-9349-469f-ac27-e5b6f5ec475c</td>\n",
       "    </tr>\n",
       "    <tr>\n",
       "      <th>3</th>\n",
       "      <td>3</td>\n",
       "      <td>2019-10-07 00:00:07.039334</td>\n",
       "      <td>tips_show</td>\n",
       "      <td>020292ab-89bc-4156-9acf-68bc2783f894</td>\n",
       "    </tr>\n",
       "    <tr>\n",
       "      <th>4</th>\n",
       "      <td>4</td>\n",
       "      <td>2019-10-07 00:00:56.319813</td>\n",
       "      <td>advert_open</td>\n",
       "      <td>cf7eda61-9349-469f-ac27-e5b6f5ec475c</td>\n",
       "    </tr>\n",
       "  </tbody>\n",
       "</table>\n",
       "</div>"
      ],
      "text/plain": [
       "   Unnamed: 0                 event.time   event.name  \\\n",
       "0           0 2019-10-07 00:00:00.431357  advert_open   \n",
       "1           1 2019-10-07 00:00:01.236320    tips_show   \n",
       "2           2 2019-10-07 00:00:02.245341    tips_show   \n",
       "3           3 2019-10-07 00:00:07.039334    tips_show   \n",
       "4           4 2019-10-07 00:00:56.319813  advert_open   \n",
       "\n",
       "                                user.id  \n",
       "0  020292ab-89bc-4156-9acf-68bc2783f894  \n",
       "1  020292ab-89bc-4156-9acf-68bc2783f894  \n",
       "2  cf7eda61-9349-469f-ac27-e5b6f5ec475c  \n",
       "3  020292ab-89bc-4156-9acf-68bc2783f894  \n",
       "4  cf7eda61-9349-469f-ac27-e5b6f5ec475c  "
      ]
     },
     "metadata": {},
     "output_type": "display_data"
    },
    {
     "name": "stdout",
     "output_type": "stream",
     "text": [
      "<class 'pandas.core.frame.DataFrame'>\n",
      "RangeIndex: 74197 entries, 0 to 74196\n",
      "Data columns (total 4 columns):\n",
      " #   Column      Non-Null Count  Dtype         \n",
      "---  ------      --------------  -----         \n",
      " 0   Unnamed: 0  74197 non-null  int64         \n",
      " 1   event.time  74197 non-null  datetime64[ns]\n",
      " 2   event.name  74197 non-null  object        \n",
      " 3   user.id     74197 non-null  object        \n",
      "dtypes: datetime64[ns](1), int64(1), object(2)\n",
      "memory usage: 2.3+ MB\n",
      "None\n"
     ]
    },
    {
     "data": {
      "text/plain": [
       "count                            74197\n",
       "mean     2019-10-21 15:32:09.039316992\n",
       "min         2019-10-07 00:00:00.431357\n",
       "25%      2019-10-14 22:04:27.791869952\n",
       "50%      2019-10-22 00:26:56.715014912\n",
       "75%      2019-10-28 12:35:53.023877120\n",
       "max         2019-11-03 23:58:12.532487\n",
       "Name: event.time, dtype: object"
      ]
     },
     "metadata": {},
     "output_type": "display_data"
    },
    {
     "data": {
      "text/html": [
       "<div>\n",
       "<style scoped>\n",
       "    .dataframe tbody tr th:only-of-type {\n",
       "        vertical-align: middle;\n",
       "    }\n",
       "\n",
       "    .dataframe tbody tr th {\n",
       "        vertical-align: top;\n",
       "    }\n",
       "\n",
       "    .dataframe thead th {\n",
       "        text-align: right;\n",
       "    }\n",
       "</style>\n",
       "<table border=\"1\" class=\"dataframe\">\n",
       "  <thead>\n",
       "    <tr style=\"text-align: right;\">\n",
       "      <th></th>\n",
       "      <th>user.id</th>\n",
       "      <th>source</th>\n",
       "    </tr>\n",
       "  </thead>\n",
       "  <tbody>\n",
       "    <tr>\n",
       "      <th>0</th>\n",
       "      <td>020292ab-89bc-4156-9acf-68bc2783f894</td>\n",
       "      <td>other</td>\n",
       "    </tr>\n",
       "    <tr>\n",
       "      <th>1</th>\n",
       "      <td>cf7eda61-9349-469f-ac27-e5b6f5ec475c</td>\n",
       "      <td>yandex</td>\n",
       "    </tr>\n",
       "    <tr>\n",
       "      <th>2</th>\n",
       "      <td>8c356c42-3ba9-4cb6-80b8-3f868d0192c3</td>\n",
       "      <td>yandex</td>\n",
       "    </tr>\n",
       "    <tr>\n",
       "      <th>3</th>\n",
       "      <td>d9b06b47-0f36-419b-bbb0-3533e582a6cb</td>\n",
       "      <td>other</td>\n",
       "    </tr>\n",
       "    <tr>\n",
       "      <th>4</th>\n",
       "      <td>f32e1e2a-3027-4693-b793-b7b3ff274439</td>\n",
       "      <td>google</td>\n",
       "    </tr>\n",
       "  </tbody>\n",
       "</table>\n",
       "</div>"
      ],
      "text/plain": [
       "                                user.id  source\n",
       "0  020292ab-89bc-4156-9acf-68bc2783f894   other\n",
       "1  cf7eda61-9349-469f-ac27-e5b6f5ec475c  yandex\n",
       "2  8c356c42-3ba9-4cb6-80b8-3f868d0192c3  yandex\n",
       "3  d9b06b47-0f36-419b-bbb0-3533e582a6cb   other\n",
       "4  f32e1e2a-3027-4693-b793-b7b3ff274439  google"
      ]
     },
     "metadata": {},
     "output_type": "display_data"
    },
    {
     "name": "stdout",
     "output_type": "stream",
     "text": [
      "<class 'pandas.core.frame.DataFrame'>\n",
      "RangeIndex: 4293 entries, 0 to 4292\n",
      "Data columns (total 2 columns):\n",
      " #   Column   Non-Null Count  Dtype \n",
      "---  ------   --------------  ----- \n",
      " 0   user.id  4293 non-null   object\n",
      " 1   source   4293 non-null   object\n",
      "dtypes: object(2)\n",
      "memory usage: 67.2+ KB\n",
      "None\n"
     ]
    }
   ],
   "source": [
    "#load the data and study the general information about the dataset\n",
    "mobile_dataset = pd.read_csv('/Users/anaitagadzhanyan/Desktop/Практикум/Финальный спринт/mobile_dataset.csv')\n",
    "mobile_sources = pd.read_csv('/Users/anaitagadzhanyan/Desktop/Практикум/Финальный спринт/mobile_sources.csv')\n",
    "\n",
    "#lets standartize the column names\n",
    "mobile_sources.rename(columns = {'userId':'user.id'}, inplace = True)\n",
    "\n",
    "#put the date column to the right format\n",
    "mobile_dataset['event.time'] = mobile_dataset['event.time'].apply(pd.to_datetime)\n",
    "\n",
    "#duplicate check\n",
    "print('Duplicate check:')\n",
    "print(mobile_dataset.duplicated().sum())\n",
    "print(mobile_sources.duplicated().sum())\n",
    "\n",
    "display(mobile_dataset.head())\n",
    "print(mobile_dataset.info())\n",
    "display(mobile_dataset['event.time'].describe(datetime_is_numeric=True))\n",
    "display(mobile_sources.head())\n",
    "print(mobile_sources.info())"
   ]
  },
  {
   "cell_type": "markdown",
   "metadata": {},
   "source": [
    "There is information about 74197 events in `mobile_dataset` that were performed by users from October 7th, 2019 till November 3rd, 2019.\n",
    "\n",
    "There is information about 4293 users and sources where they have downloaded the app. \n",
    "\n",
    "We found no empty or duplicate values in our dataset."
   ]
  },
  {
   "cell_type": "markdown",
   "metadata": {},
   "source": [
    "<div class=\"alert alert-success\" style=\"border-radius: 15px; box-shadow: 4px 4px 4px; border: 1px solid \" > <b>Комментарии от тимлида ✔️ : </b> \n",
    "\n",
    "На этом этапе всё хорошо. Ты корректно выгрузила данные и посмотрела их содержимое. Выполнила первичную проверку на пропуски и дубликаты. Можно приступать к следующему шагу\n",
    "   \n",
    "</div>"
   ]
  },
  {
   "cell_type": "markdown",
   "metadata": {},
   "source": [
    "<a id='2'></a> \n",
    "### 2. Data analysis"
   ]
  },
  {
   "cell_type": "markdown",
   "metadata": {},
   "source": [
    "#### 2.1 What are the download sources?"
   ]
  },
  {
   "cell_type": "code",
   "execution_count": 6,
   "metadata": {},
   "outputs": [
    {
     "data": {
      "image/png": "[encoded data removed]",
      "text/plain": [
       "<Figure size 432x288 with 1 Axes>"
      ]
     },
     "metadata": {},
     "output_type": "display_data"
    }
   ],
   "source": [
    "colors = sns.color_palette('pastel')\n",
    "labels = mobile_sources['source'].unique()\n",
    "\n",
    "plt.title('Download sources')\n",
    "plt.pie(mobile_sources.groupby('source')['user.id'].count(), colors = colors, labels=labels, autopct='%.0f%%')\n",
    "plt.show()"
   ]
  },
  {
   "cell_type": "markdown",
   "metadata": {},
   "source": [
    "#### 2.2 What steps can users perform in the app?"
   ]
  },
  {
   "cell_type": "code",
   "execution_count": 48,
   "metadata": {},
   "outputs": [
    {
     "name": "stdout",
     "output_type": "stream",
     "text": [
      "['advert_open' 'tips_show' 'map' 'contacts_show' 'search_4' 'search_5'\n",
      " 'tips_click' 'photos_show' 'search_1' 'search_2' 'search_3'\n",
      " 'favorites_add' 'contacts_call' 'search_6' 'search_7' 'show_contacts']\n"
     ]
    }
   ],
   "source": [
    "print(mobile_dataset['event.name'].unique())"
   ]
  },
  {
   "cell_type": "code",
   "execution_count": 8,
   "metadata": {},
   "outputs": [],
   "source": [
    "#let's merge search_1-search_7 steps under \"search\"\n",
    "mobile_dataset['event.name'] = mobile_dataset['event.name'].str.replace(r'search.*', 'search', regex=True)"
   ]
  },
  {
   "cell_type": "code",
   "execution_count": 7,
   "metadata": {},
   "outputs": [],
   "source": [
    "#let's merge duplicated events 'contacts_show' and 'show_contacts'\n",
    "mobile_dataset['event.name'] = mobile_dataset['event.name'].str.replace('show_contacts', 'contacts_show')"
   ]
  },
  {
   "cell_type": "code",
   "execution_count": 51,
   "metadata": {},
   "outputs": [
    {
     "name": "stdout",
     "output_type": "stream",
     "text": [
      "['advert_open' 'tips_show' 'map' 'contacts_show' 'search' 'tips_click'\n",
      " 'photos_show' 'favorites_add' 'contacts_call']\n"
     ]
    }
   ],
   "source": [
    "#let's check unique values again\n",
    "print(mobile_dataset['event.name'].unique())"
   ]
  },
  {
   "cell_type": "code",
   "execution_count": 9,
   "metadata": {},
   "outputs": [],
   "source": [
    "#download the data for Tableau\n",
    "mobile_dataset.to_csv('mobile_dataset.csv')"
   ]
  },
  {
   "cell_type": "markdown",
   "metadata": {},
   "source": [
    "The users can perform the following steps in the application:\n",
    "`advert_open`,`tips_show`,`map`, `contacts_show`, `search`, `tips_click`,`photos_show`,`favorites_add` and `contacts_call`.\n",
    "\n",
    "From the task description we also know that `contacts_show` key feature step can be followed after different steps in different combinations."
   ]
  },
  {
   "cell_type": "markdown",
   "metadata": {},
   "source": [
    "#### 2.3 What is the average and median session duration?"
   ]
  },
  {
   "cell_type": "code",
   "execution_count": 10,
   "metadata": {},
   "outputs": [],
   "source": [
    "#lets exctract the date\n",
    "mobile_dataset['event.date'] = pd.to_datetime(mobile_dataset['event.time']).dt.strftime('%Y-%m-%d')"
   ]
  },
  {
   "cell_type": "code",
   "execution_count": 11,
   "metadata": {},
   "outputs": [
    {
     "data": {
      "text/html": [
       "<div>\n",
       "<style scoped>\n",
       "    .dataframe tbody tr th:only-of-type {\n",
       "        vertical-align: middle;\n",
       "    }\n",
       "\n",
       "    .dataframe tbody tr th {\n",
       "        vertical-align: top;\n",
       "    }\n",
       "\n",
       "    .dataframe thead th {\n",
       "        text-align: right;\n",
       "    }\n",
       "</style>\n",
       "<table border=\"1\" class=\"dataframe\">\n",
       "  <thead>\n",
       "    <tr style=\"text-align: right;\">\n",
       "      <th></th>\n",
       "      <th>user.id</th>\n",
       "      <th>event.date</th>\n",
       "      <th>begin</th>\n",
       "      <th>end</th>\n",
       "      <th>duration</th>\n",
       "    </tr>\n",
       "  </thead>\n",
       "  <tbody>\n",
       "    <tr>\n",
       "      <th>0</th>\n",
       "      <td>0001b1d5-b74a-4cbf-aeb0-7df5947bf349</td>\n",
       "      <td>2019-10-07</td>\n",
       "      <td>2019-10-07 13:39:45.989359</td>\n",
       "      <td>2019-10-07 13:49:41.716617</td>\n",
       "      <td>595</td>\n",
       "    </tr>\n",
       "    <tr>\n",
       "      <th>1</th>\n",
       "      <td>0001b1d5-b74a-4cbf-aeb0-7df5947bf349</td>\n",
       "      <td>2019-10-09</td>\n",
       "      <td>2019-10-09 18:33:55.577963</td>\n",
       "      <td>2019-10-09 18:42:22.963948</td>\n",
       "      <td>507</td>\n",
       "    </tr>\n",
       "    <tr>\n",
       "      <th>2</th>\n",
       "      <td>0001b1d5-b74a-4cbf-aeb0-7df5947bf349</td>\n",
       "      <td>2019-10-21</td>\n",
       "      <td>2019-10-21 19:52:30.778932</td>\n",
       "      <td>2019-10-21 20:07:30.051028</td>\n",
       "      <td>899</td>\n",
       "    </tr>\n",
       "    <tr>\n",
       "      <th>3</th>\n",
       "      <td>0001b1d5-b74a-4cbf-aeb0-7df5947bf349</td>\n",
       "      <td>2019-10-22</td>\n",
       "      <td>2019-10-22 11:18:14.635436</td>\n",
       "      <td>2019-10-22 11:30:52.807203</td>\n",
       "      <td>758</td>\n",
       "    </tr>\n",
       "    <tr>\n",
       "      <th>4</th>\n",
       "      <td>00157779-810c-4498-9e05-a1e9e3cedf93</td>\n",
       "      <td>2019-10-19</td>\n",
       "      <td>2019-10-19 21:34:33.849769</td>\n",
       "      <td>2019-10-19 21:59:54.637098</td>\n",
       "      <td>1520</td>\n",
       "    </tr>\n",
       "  </tbody>\n",
       "</table>\n",
       "</div>"
      ],
      "text/plain": [
       "                                user.id  event.date  \\\n",
       "0  0001b1d5-b74a-4cbf-aeb0-7df5947bf349  2019-10-07   \n",
       "1  0001b1d5-b74a-4cbf-aeb0-7df5947bf349  2019-10-09   \n",
       "2  0001b1d5-b74a-4cbf-aeb0-7df5947bf349  2019-10-21   \n",
       "3  0001b1d5-b74a-4cbf-aeb0-7df5947bf349  2019-10-22   \n",
       "4  00157779-810c-4498-9e05-a1e9e3cedf93  2019-10-19   \n",
       "\n",
       "                       begin                        end  duration  \n",
       "0 2019-10-07 13:39:45.989359 2019-10-07 13:49:41.716617       595  \n",
       "1 2019-10-09 18:33:55.577963 2019-10-09 18:42:22.963948       507  \n",
       "2 2019-10-21 19:52:30.778932 2019-10-21 20:07:30.051028       899  \n",
       "3 2019-10-22 11:18:14.635436 2019-10-22 11:30:52.807203       758  \n",
       "4 2019-10-19 21:34:33.849769 2019-10-19 21:59:54.637098      1520  "
      ]
     },
     "metadata": {},
     "output_type": "display_data"
    },
    {
     "data": {
      "text/plain": [
       "count     4293.000000\n",
       "mean      3759.625821\n",
       "std       7633.967044\n",
       "min          0.000000\n",
       "25%        367.000000\n",
       "50%        986.600000\n",
       "75%       3222.000000\n",
       "max      84643.000000\n",
       "Name: duration, dtype: float64"
      ]
     },
     "metadata": {},
     "output_type": "display_data"
    },
    {
     "name": "stdout",
     "output_type": "stream",
     "text": [
      "Average session duration: 63 мин.\n",
      "Median session duration: 16 мин.\n"
     ]
    }
   ],
   "source": [
    "#define sessions and calculate their duration in seconds\n",
    "sessions = mobile_dataset.groupby(['user.id','event.date']).agg(\n",
    "    {'event.time': ['min','max']}).reset_index()\n",
    "sessions.columns = ['user.id', 'event.date','begin','end']\n",
    "sessions['duration'] = sessions['end'] - sessions['begin']\n",
    "sessions['duration'] = sessions['duration'].apply(lambda x: x.seconds)\n",
    "\n",
    "display(sessions.head())\n",
    "\n",
    "display(sessions.groupby('user.id')['duration'].mean().describe())\n",
    "\n",
    "print('Mean session duration: {:.0f} мин.'.format(3759.625821/60))\n",
    "print('Median session duration: {:.0f} мин.'.format(986.6/60))"
   ]
  },
  {
   "cell_type": "markdown",
   "metadata": {},
   "source": [
    "As we don't have session id we will calculate a session duration as the difference in time between the first and the last step performed for every user. The mean session duration is about one hour, and the median is 16 minutes."
   ]
  },
  {
   "cell_type": "markdown",
   "metadata": {},
   "source": [
    "#### 2.4 How many users performed the key event? What percentage of the total amount of users do they comprise?"
   ]
  },
  {
   "cell_type": "code",
   "execution_count": 12,
   "metadata": {},
   "outputs": [
    {
     "name": "stdout",
     "output_type": "stream",
     "text": [
      "Number of users who performed the key feature step\n",
      "981\n",
      "Percentage of the total users:\n",
      "22.851153039832283\n"
     ]
    }
   ],
   "source": [
    "print('Number of users who performed the key feature step')\n",
    "print(mobile_dataset[mobile_dataset['event.name']== \"contacts_show\"]['user.id'].nunique())\n",
    "print('Percentage of the total users:')\n",
    "print((mobile_dataset[mobile_dataset['event.name']== \"contacts_show\"]['user.id'].nunique()/len(mobile_sources)*100))"
   ]
  },
  {
   "cell_type": "markdown",
   "metadata": {},
   "source": [
    "981 users used `contacts_show` key feature, which is 23% of the total users."
   ]
  },
  {
   "cell_type": "markdown",
   "metadata": {},
   "source": [
    "#### 2.5 Calculation of retention rate, DAU\\WAU for the key feature step"
   ]
  },
  {
   "cell_type": "code",
   "execution_count": 13,
   "metadata": {},
   "outputs": [
    {
     "name": "stdout",
     "output_type": "stream",
     "text": [
      "Retention table:\n"
     ]
    },
    {
     "data": {
      "text/html": [
       "<div>\n",
       "<style scoped>\n",
       "    .dataframe tbody tr th:only-of-type {\n",
       "        vertical-align: middle;\n",
       "    }\n",
       "\n",
       "    .dataframe tbody tr th {\n",
       "        vertical-align: top;\n",
       "    }\n",
       "\n",
       "    .dataframe thead th {\n",
       "        text-align: right;\n",
       "    }\n",
       "</style>\n",
       "<table border=\"1\" class=\"dataframe\">\n",
       "  <thead>\n",
       "    <tr style=\"text-align: right;\">\n",
       "      <th>lifetime</th>\n",
       "      <th>0</th>\n",
       "      <th>1</th>\n",
       "      <th>2</th>\n",
       "      <th>3</th>\n",
       "    </tr>\n",
       "    <tr>\n",
       "      <th>first_event_week</th>\n",
       "      <th></th>\n",
       "      <th></th>\n",
       "      <th></th>\n",
       "      <th></th>\n",
       "    </tr>\n",
       "  </thead>\n",
       "  <tbody>\n",
       "    <tr>\n",
       "      <th>40</th>\n",
       "      <td>1130.0</td>\n",
       "      <td>272.0</td>\n",
       "      <td>170.0</td>\n",
       "      <td>119.0</td>\n",
       "    </tr>\n",
       "    <tr>\n",
       "      <th>41</th>\n",
       "      <td>1166.0</td>\n",
       "      <td>282.0</td>\n",
       "      <td>155.0</td>\n",
       "      <td>NaN</td>\n",
       "    </tr>\n",
       "    <tr>\n",
       "      <th>42</th>\n",
       "      <td>1094.0</td>\n",
       "      <td>239.0</td>\n",
       "      <td>NaN</td>\n",
       "      <td>NaN</td>\n",
       "    </tr>\n",
       "    <tr>\n",
       "      <th>43</th>\n",
       "      <td>903.0</td>\n",
       "      <td>NaN</td>\n",
       "      <td>NaN</td>\n",
       "      <td>NaN</td>\n",
       "    </tr>\n",
       "  </tbody>\n",
       "</table>\n",
       "</div>"
      ],
      "text/plain": [
       "lifetime               0      1      2      3\n",
       "first_event_week                             \n",
       "40                1130.0  272.0  170.0  119.0\n",
       "41                1166.0  282.0  155.0    NaN\n",
       "42                1094.0  239.0    NaN    NaN\n",
       "43                 903.0    NaN    NaN    NaN"
      ]
     },
     "metadata": {},
     "output_type": "display_data"
    },
    {
     "name": "stdout",
     "output_type": "stream",
     "text": [
      "Cohort sizes:\n"
     ]
    },
    {
     "data": {
      "text/html": [
       "<div>\n",
       "<style scoped>\n",
       "    .dataframe tbody tr th:only-of-type {\n",
       "        vertical-align: middle;\n",
       "    }\n",
       "\n",
       "    .dataframe tbody tr th {\n",
       "        vertical-align: top;\n",
       "    }\n",
       "\n",
       "    .dataframe thead th {\n",
       "        text-align: right;\n",
       "    }\n",
       "</style>\n",
       "<table border=\"1\" class=\"dataframe\">\n",
       "  <thead>\n",
       "    <tr style=\"text-align: right;\">\n",
       "      <th></th>\n",
       "      <th>cohort_size</th>\n",
       "    </tr>\n",
       "    <tr>\n",
       "      <th>first_event_week</th>\n",
       "      <th></th>\n",
       "    </tr>\n",
       "  </thead>\n",
       "  <tbody>\n",
       "    <tr>\n",
       "      <th>40</th>\n",
       "      <td>1130</td>\n",
       "    </tr>\n",
       "    <tr>\n",
       "      <th>41</th>\n",
       "      <td>1166</td>\n",
       "    </tr>\n",
       "    <tr>\n",
       "      <th>42</th>\n",
       "      <td>1094</td>\n",
       "    </tr>\n",
       "    <tr>\n",
       "      <th>43</th>\n",
       "      <td>903</td>\n",
       "    </tr>\n",
       "  </tbody>\n",
       "</table>\n",
       "</div>"
      ],
      "text/plain": [
       "                  cohort_size\n",
       "first_event_week             \n",
       "40                       1130\n",
       "41                       1166\n",
       "42                       1094\n",
       "43                        903"
      ]
     },
     "metadata": {},
     "output_type": "display_data"
    },
    {
     "name": "stdout",
     "output_type": "stream",
     "text": [
      "Retention Rate in weekly cohorts:\n"
     ]
    },
    {
     "data": {
      "text/html": [
       "<div>\n",
       "<style scoped>\n",
       "    .dataframe tbody tr th:only-of-type {\n",
       "        vertical-align: middle;\n",
       "    }\n",
       "\n",
       "    .dataframe tbody tr th {\n",
       "        vertical-align: top;\n",
       "    }\n",
       "\n",
       "    .dataframe thead th {\n",
       "        text-align: right;\n",
       "    }\n",
       "</style>\n",
       "<table border=\"1\" class=\"dataframe\">\n",
       "  <thead>\n",
       "    <tr style=\"text-align: right;\">\n",
       "      <th></th>\n",
       "      <th>0</th>\n",
       "      <th>1</th>\n",
       "      <th>2</th>\n",
       "      <th>3</th>\n",
       "    </tr>\n",
       "    <tr>\n",
       "      <th>first_event_week</th>\n",
       "      <th></th>\n",
       "      <th></th>\n",
       "      <th></th>\n",
       "      <th></th>\n",
       "    </tr>\n",
       "  </thead>\n",
       "  <tbody>\n",
       "    <tr>\n",
       "      <th>40</th>\n",
       "      <td>1.0</td>\n",
       "      <td>0.240708</td>\n",
       "      <td>0.150442</td>\n",
       "      <td>0.10531</td>\n",
       "    </tr>\n",
       "    <tr>\n",
       "      <th>41</th>\n",
       "      <td>1.0</td>\n",
       "      <td>0.241852</td>\n",
       "      <td>0.132933</td>\n",
       "      <td>0.00000</td>\n",
       "    </tr>\n",
       "    <tr>\n",
       "      <th>42</th>\n",
       "      <td>1.0</td>\n",
       "      <td>0.218464</td>\n",
       "      <td>0.000000</td>\n",
       "      <td>0.00000</td>\n",
       "    </tr>\n",
       "    <tr>\n",
       "      <th>43</th>\n",
       "      <td>1.0</td>\n",
       "      <td>0.000000</td>\n",
       "      <td>0.000000</td>\n",
       "      <td>0.00000</td>\n",
       "    </tr>\n",
       "  </tbody>\n",
       "</table>\n",
       "</div>"
      ],
      "text/plain": [
       "                    0         1         2        3\n",
       "first_event_week                                  \n",
       "40                1.0  0.240708  0.150442  0.10531\n",
       "41                1.0  0.241852  0.132933  0.00000\n",
       "42                1.0  0.218464  0.000000  0.00000\n",
       "43                1.0  0.000000  0.000000  0.00000"
      ]
     },
     "metadata": {},
     "output_type": "display_data"
    }
   ],
   "source": [
    "#calculate the time when a user performed the first step\n",
    "first_ts_key = mobile_dataset.groupby('user.id')['event.time'].min().to_dict()\n",
    "mobile_dataset['first'] = mobile_dataset['user.id'].map(first_ts_key)\n",
    "\n",
    "#extract weeks when the current and the first steps were performed\n",
    "mobile_dataset['event_week']  = mobile_dataset['event.time'].dt.strftime('%W').astype(int)\n",
    "mobile_dataset['first_event_week']  = mobile_dataset['first'].dt.strftime('%W').astype(int)\n",
    "\n",
    "#calculate the lifetime of every user in weeks\n",
    "mobile_dataset['lifetime'] = mobile_dataset['event_week'] - mobile_dataset['first_event_week']\n",
    "\n",
    "\n",
    "#build a retention table\n",
    "retention_pivot = mobile_dataset.pivot_table(\n",
    "    index='first_event_week', columns='lifetime', values='user.id', aggfunc='nunique'\n",
    ")\n",
    "print('Retention table:')\n",
    "display(retention_pivot)\n",
    "\n",
    "#calculate the cohort size\n",
    "cohort_sizes = (\n",
    "    mobile_dataset.groupby('first_event_week')\n",
    "    .agg({'user.id': 'nunique'})\n",
    "    .rename(columns={'user.id': 'cohort_size'})\n",
    ")\n",
    "print('Cohort sizes:')\n",
    "display(cohort_sizes)\n",
    "\n",
    "#merge cohort sizes and retention tables\n",
    "result_grouped = cohort_sizes.merge(\n",
    "    retention_pivot, on='first_event_week', how='left'\n",
    ").fillna(0)\n",
    "\n",
    "#calculate retention rate\n",
    "result_grouped = result_grouped.div(\n",
    "    result_grouped['cohort_size'], axis=0\n",
    ").drop(columns=['cohort_size'])\n",
    "\n",
    "print('Retention Rate in weekly cohorts:')\n",
    "display(result_grouped)"
   ]
  },
  {
   "cell_type": "code",
   "execution_count": 14,
   "metadata": {},
   "outputs": [
    {
     "data": {
      "text/plain": [
       "Text(0, 0.5, 'Number of unique users')"
      ]
     },
     "execution_count": 14,
     "metadata": {},
     "output_type": "execute_result"
    },
    {
     "data": {
      "image/png": "[encoded data removed]",
      "text/plain": [
       "<Figure size 2160x360 with 2 Axes>"
      ]
     },
     "metadata": {
      "needs_background": "light"
     },
     "output_type": "display_data"
    }
   ],
   "source": [
    "#calculate DAU\\WAU\n",
    "\n",
    "fig, axs = plt.subplots(1, 2, figsize=(30, 5))\n",
    "\n",
    "ax = sns.lineplot(data=mobile_dataset.groupby('event.date').agg({'user.id':'nunique'}),color='#95d591',\n",
    "                  legend=False,ax=axs[0])\n",
    "ax.set_title('DAU')\n",
    "ax.tick_params(axis='x', rotation=90)\n",
    "ax.set_ylabel('Number of unique users') \n",
    "\n",
    "ax = sns.lineplot(data=mobile_dataset.groupby('event_week').agg({'user.id':'nunique'}), color='#95d591', \n",
    "                  legend=False, ax=axs[1])\n",
    "ax.set_title('WAU')\n",
    "ax.set_ylabel('Number of unique users') \n"
   ]
  },
  {
   "cell_type": "markdown",
   "metadata": {},
   "source": [
    "The retention rate for users in weekly cohorts varies from 10 to 24% depending on the lifetime. The number of unique users on average increases during the whole study period and decreases after the third week. There are big drops in DAU chart on 12.10.2019 and 02.11.2019."
   ]
  },
  {
   "cell_type": "markdown",
   "metadata": {},
   "source": [
    "<a id='3'></a>\n",
    "### 3. Analysis of contacts_show key feature"
   ]
  },
  {
   "cell_type": "markdown",
   "metadata": {},
   "source": [
    "#### 3.1 What other steps do users that performed the key feature step perform?"
   ]
  },
  {
   "cell_type": "code",
   "execution_count": 15,
   "metadata": {
    "scrolled": false
   },
   "outputs": [
    {
     "data": {
      "text/html": [
       "<div>\n",
       "<style scoped>\n",
       "    .dataframe tbody tr th:only-of-type {\n",
       "        vertical-align: middle;\n",
       "    }\n",
       "\n",
       "    .dataframe tbody tr th {\n",
       "        vertical-align: top;\n",
       "    }\n",
       "\n",
       "    .dataframe thead th {\n",
       "        text-align: right;\n",
       "    }\n",
       "</style>\n",
       "<table border=\"1\" class=\"dataframe\">\n",
       "  <thead>\n",
       "    <tr style=\"text-align: right;\">\n",
       "      <th></th>\n",
       "      <th>event.name</th>\n",
       "      <th>user.id</th>\n",
       "    </tr>\n",
       "  </thead>\n",
       "  <tbody>\n",
       "    <tr>\n",
       "      <th>8</th>\n",
       "      <td>tips_show</td>\n",
       "      <td>12768</td>\n",
       "    </tr>\n",
       "    <tr>\n",
       "      <th>2</th>\n",
       "      <td>contacts_show</td>\n",
       "      <td>4529</td>\n",
       "    </tr>\n",
       "    <tr>\n",
       "      <th>5</th>\n",
       "      <td>photos_show</td>\n",
       "      <td>3828</td>\n",
       "    </tr>\n",
       "    <tr>\n",
       "      <th>6</th>\n",
       "      <td>search</td>\n",
       "      <td>2084</td>\n",
       "    </tr>\n",
       "    <tr>\n",
       "      <th>0</th>\n",
       "      <td>advert_open</td>\n",
       "      <td>1589</td>\n",
       "    </tr>\n",
       "    <tr>\n",
       "      <th>4</th>\n",
       "      <td>map</td>\n",
       "      <td>1101</td>\n",
       "    </tr>\n",
       "    <tr>\n",
       "      <th>1</th>\n",
       "      <td>contacts_call</td>\n",
       "      <td>541</td>\n",
       "    </tr>\n",
       "    <tr>\n",
       "      <th>3</th>\n",
       "      <td>favorites_add</td>\n",
       "      <td>424</td>\n",
       "    </tr>\n",
       "    <tr>\n",
       "      <th>7</th>\n",
       "      <td>tips_click</td>\n",
       "      <td>333</td>\n",
       "    </tr>\n",
       "  </tbody>\n",
       "</table>\n",
       "</div>"
      ],
      "text/plain": [
       "      event.name  user.id\n",
       "8      tips_show    12768\n",
       "2  contacts_show     4529\n",
       "5    photos_show     3828\n",
       "6         search     2084\n",
       "0    advert_open     1589\n",
       "4            map     1101\n",
       "1  contacts_call      541\n",
       "3  favorites_add      424\n",
       "7     tips_click      333"
      ]
     },
     "metadata": {},
     "output_type": "display_data"
    }
   ],
   "source": [
    "#extract users that performed contacts_show key feature step\n",
    "key_users = mobile_dataset[mobile_dataset['event.name']== \"contacts_show\"]['user.id'].unique()\n",
    "\n",
    "mobile_dataset_key = mobile_dataset[mobile_dataset['user.id'].isin(key_users)]\n",
    "\n",
    "display(mobile_dataset_key.groupby('event.name').agg({'user.id':'count'}).reset_index().sort_values(by='user.id', ascending=False))"
   ]
  },
  {
   "cell_type": "markdown",
   "metadata": {},
   "source": [
    "We can see that the users who performed the `contacts_show`key feature most frequently also performed `tips_show`step and less frequently -  `photos_show`, `search`,`advert_open` and others. \n",
    "\n",
    "However, `tips_show` step was shown to all the users, that is why we will not consider it in the future analysis. \n",
    "`tips_click`, `favorites_add`,`contacts_call` steps were performed less often."
   ]
  },
  {
   "cell_type": "markdown",
   "metadata": {},
   "source": [
    "### 3.2 What steps do the users perform before the key feature step (what are the scenarios of app usage)?"
   ]
  },
  {
   "cell_type": "code",
   "execution_count": 16,
   "metadata": {},
   "outputs": [
    {
     "name": "stdout",
     "output_type": "stream",
     "text": [
      "Number of users who performed the key feature event immediately:\n"
     ]
    },
    {
     "data": {
      "text/plain": [
       "8"
      ]
     },
     "metadata": {},
     "output_type": "display_data"
    }
   ],
   "source": [
    "#calculate the time when the key feature step was performed for each user for every day and add it to the table\n",
    "key_time=mobile_dataset_key[mobile_dataset_key['event.name']== \"contacts_show\"].groupby('user.id')['event.time'].min()\n",
    "\n",
    "mobile_dataset_key['contacts_show_first'] = mobile_dataset_key['user.id'].map(key_time)\n",
    "\n",
    "#calculate the difference in second between the key feature step and the previous/next step\n",
    "mobile_dataset_key['diff'] = (mobile_dataset_key['contacts_show_first'] - mobile_dataset_key['event.time'])\n",
    "mobile_dataset_key['diff'] = mobile_dataset_key['diff'].astype('timedelta64[m]').astype(np.int32)\n",
    "\n",
    "\n",
    "#see if any users performed only the key feature step\n",
    "print('Number of users who performed the key feature event immediately:')\n",
    "display(mobile_dataset_key.pivot_table(index='event.name', columns='user.id', \n",
    "                                       values='event.time', aggfunc='nunique').reset_index()\n",
    "                                        .drop('event.name', axis=1)\n",
    "                                        .isnull().any(axis=1).sum())"
   ]
  },
  {
   "cell_type": "code",
   "execution_count": 17,
   "metadata": {},
   "outputs": [
    {
     "data": {
      "text/html": [
       "<div>\n",
       "<style scoped>\n",
       "    .dataframe tbody tr th:only-of-type {\n",
       "        vertical-align: middle;\n",
       "    }\n",
       "\n",
       "    .dataframe tbody tr th {\n",
       "        vertical-align: top;\n",
       "    }\n",
       "\n",
       "    .dataframe thead th {\n",
       "        text-align: right;\n",
       "    }\n",
       "</style>\n",
       "<table border=\"1\" class=\"dataframe\">\n",
       "  <thead>\n",
       "    <tr style=\"text-align: right;\">\n",
       "      <th></th>\n",
       "      <th>event.name</th>\n",
       "      <th>user.id</th>\n",
       "    </tr>\n",
       "  </thead>\n",
       "  <tbody>\n",
       "    <tr>\n",
       "      <th>3</th>\n",
       "      <td>photos_show</td>\n",
       "      <td>191</td>\n",
       "    </tr>\n",
       "    <tr>\n",
       "      <th>6</th>\n",
       "      <td>tips_show</td>\n",
       "      <td>177</td>\n",
       "    </tr>\n",
       "    <tr>\n",
       "      <th>2</th>\n",
       "      <td>map</td>\n",
       "      <td>148</td>\n",
       "    </tr>\n",
       "    <tr>\n",
       "      <th>4</th>\n",
       "      <td>search</td>\n",
       "      <td>100</td>\n",
       "    </tr>\n",
       "    <tr>\n",
       "      <th>0</th>\n",
       "      <td>advert_open</td>\n",
       "      <td>74</td>\n",
       "    </tr>\n",
       "    <tr>\n",
       "      <th>1</th>\n",
       "      <td>favorites_add</td>\n",
       "      <td>38</td>\n",
       "    </tr>\n",
       "    <tr>\n",
       "      <th>5</th>\n",
       "      <td>tips_click</td>\n",
       "      <td>13</td>\n",
       "    </tr>\n",
       "  </tbody>\n",
       "</table>\n",
       "</div>"
      ],
      "text/plain": [
       "      event.name  user.id\n",
       "3    photos_show      191\n",
       "6      tips_show      177\n",
       "2            map      148\n",
       "4         search      100\n",
       "0    advert_open       74\n",
       "1  favorites_add       38\n",
       "5     tips_click       13"
      ]
     },
     "metadata": {},
     "output_type": "display_data"
    }
   ],
   "source": [
    "#lets only have the previous steps in the dataset\n",
    "mobile_dataset_key_before = mobile_dataset_key.query('diff > 0')\n",
    "\n",
    "#extract the events that users did prior to the key feature step\n",
    "key_before = mobile_dataset_key_before.groupby('user.id')['event.name','event.time'].min('diff').reset_index()\n",
    "display(key_before.groupby('event.name').agg({'user.id':'count'}).reset_index().sort_values('user.id', ascending=False))"
   ]
  },
  {
   "cell_type": "markdown",
   "metadata": {},
   "source": [
    "We see that prior to the key feature step the users mostly performed `photos_show`, `tips_show` and `map`. Only 8 users performed the key feature step immediately."
   ]
  },
  {
   "cell_type": "markdown",
   "metadata": {},
   "source": [
    "#### 3.3 After how much time after the last step from p.3.2 is the key feature step performed?"
   ]
  },
  {
   "cell_type": "code",
   "execution_count": 18,
   "metadata": {},
   "outputs": [
    {
     "name": "stdout",
     "output_type": "stream",
     "text": [
      "Время до совершения целевого события без разбивки по дням\n",
      "count      741.000000\n",
      "mean      2338.066127\n",
      "std       5094.943756\n",
      "min          1.000000\n",
      "25%          6.000000\n",
      "50%         33.000000\n",
      "75%       1523.000000\n",
      "max      33380.000000\n",
      "Name: diff, dtype: float64\n",
      "\n",
      "Time to key feature step by days\n",
      "count     504.000000\n",
      "mean       56.323413\n",
      "std       137.983981\n",
      "min         1.000000\n",
      "25%         4.000000\n",
      "50%        10.000000\n",
      "75%        34.250000\n",
      "max      1183.000000\n",
      "Name: diff, dtype: float64\n"
     ]
    },
    {
     "data": {
      "text/plain": [
       "Text(0.5, 0, 'Minutes')"
      ]
     },
     "execution_count": 18,
     "metadata": {},
     "output_type": "execute_result"
    },
    {
     "data": {
      "image/png": "[encoded data removed]",
      "text/plain": [
       "<Figure size 1080x576 with 1 Axes>"
      ]
     },
     "metadata": {
      "needs_background": "light"
     },
     "output_type": "display_data"
    }
   ],
   "source": [
    "key_before['contacts_show_first'] = key_before['user.id'].map(key_time)\n",
    "key_before['diff'] = (key_before['contacts_show_first'] - key_before['event.time'])\n",
    "key_before['diff'] = key_before['diff'].astype('timedelta64[m]').astype(np.int32)\n",
    "\n",
    "print('Время до совершения целевого события без разбивки по дням')\n",
    "print(key_before['diff'].describe())\n",
    "print()\n",
    "\n",
    "#only consider the steps that were performed the same day as the key feature step\n",
    "key_before['event.date'] = pd.to_datetime(key_before['event.time']).dt.strftime('%Y-%m-%d')\n",
    "key_before['contacts_show_firs.date'] = pd.to_datetime(key_before['contacts_show_first']).dt.strftime('%Y-%m-%d')\n",
    "key_before_same_day = key_before[key_before['event.date'] == key_before['contacts_show_firs.date']]\n",
    "\n",
    "print('Time to key feature step by days')\n",
    "print(key_before_same_day['diff'].describe())\n",
    "\n",
    "plt.figure(figsize=(15,8))\n",
    "ax = sns.boxplot(x=key_before_same_day['diff'],color='skyblue')\n",
    "ax.set_title('Time to key feature event')\n",
    "ax.set_xlabel('Minutes') "
   ]
  },
  {
   "cell_type": "markdown",
   "metadata": {},
   "source": [
    "As a result of `contacts_show` key feature we have discovered the following:\n",
    "1. The users mostly perform `photos_show`, `search`, `advert_open` and other steps along with the key feature step.\n",
    "\n",
    "2. Only 8 users immediately jumped to `contacts_show`. The most frequent previous steps are `photos_show`, `tips_show` and `map`.\n",
    "\n",
    "3. If we look at one day period, the average time between the `contacts_show` and the previous step is 50 minutes. As we can see on the graph there are outliers, that is why we should consider using the median time instead, which is 8 minutes. 75% of users performed the key feature step in 34 minutes."
   ]
  },
  {
   "cell_type": "markdown",
   "metadata": {},
   "source": [
    "<a id='4'></a>\n",
    "### 4. Hypothesis test"
   ]
  },
  {
   "cell_type": "markdown",
   "metadata": {},
   "source": [
    "#### 4.1 Conversion to see contacts is different among users who perform both tips_show and tips_click and users who only perform tips_show."
   ]
  },
  {
   "cell_type": "code",
   "execution_count": 19,
   "metadata": {},
   "outputs": [],
   "source": [
    "#statistical significance level\n",
    "alpha = .05"
   ]
  },
  {
   "cell_type": "code",
   "execution_count": 20,
   "metadata": {},
   "outputs": [
    {
     "name": "stdout",
     "output_type": "stream",
     "text": [
      "Number of unique users who performed tips_show step:\n",
      "2801\n",
      "Number of unique users who performed both tips_show step AND contacts_show:\n",
      "516\n",
      "\n",
      "Number of unique users who performed both tips_show AND tips_click:\n",
      "297\n",
      "Number of unique users who performed both tips_show AND tips_click AND contacts_show:\n",
      "91\n",
      "\n",
      "P-value: 4.55621837828025e-07\n",
      "Test statistic: -5.044\n",
      "Reject null hypothesis\n"
     ]
    }
   ],
   "source": [
    "#define users who performed the tips_show step AND the key feature step\n",
    "tips_show_users = mobile_dataset[mobile_dataset['event.name'] == 'tips_show']['user.id'].unique()\n",
    "tips_show_users_df = mobile_dataset[mobile_dataset['user.id'].isin(tips_show_users)]\n",
    "print('Number of unique users who performed tips_show step:')\n",
    "print(len(tips_show_users))\n",
    "print('Number of unique users who performed both tips_show step AND contacts_show:')\n",
    "print(len(tips_show_users_df[tips_show_users_df['event.name'] == 'contacts_show']['user.id'].unique()))\n",
    "\n",
    "print()\n",
    "\n",
    "#выделим пользователей, которые совершили события и tips_show и tips_click\n",
    "tips_show_click_users = tips_show_users_df[tips_show_users_df['event.name'] == 'tips_click']['user.id'].unique()\n",
    "tips_show_click_users_df = mobile_dataset[mobile_dataset['user.id'].isin(tips_show_click_users)]  \n",
    "print('Number of unique users who performed both tips_show AND tips_click:')\n",
    "print(len(tips_show_click_users))\n",
    "print('Number of unique users who performed both tips_show AND tips_click AND contacts_show:')\n",
    "print(len(tips_show_click_users_df[tips_show_click_users_df['event.name'] == 'contacts_show']['user.id'].unique()))\n",
    "\n",
    "print()\n",
    "\n",
    "#two-sided z-test\n",
    "count1 = np.array([516, 91])\n",
    "nobs1 = np.array([2801, 297])\n",
    "stat1, pval1 = proportions_ztest(count1, nobs1, alternative='two-sided')\n",
    "\n",
    "print('P-value: {}'.format(pval1))\n",
    "print('Test statistic: {0:0.3f}'.format(stat1))\n",
    "\n",
    "if pval1 < alpha:\n",
    "    print(\"Reject null hypothesis\")\n",
    "else:\n",
    "    print(\"Could not reject the null hypothesis\")"
   ]
  },
  {
   "cell_type": "markdown",
   "metadata": {},
   "source": [
    "<b>H0: The convertion to contacts_show among users who perform both tips_show and tips_click steps is the same as among users who only perform tips_show </b> \n",
    "\n",
    "P-value is less than the critical value, therefore, we reject the null hypothesis at 5% significance level."
   ]
  },
  {
   "cell_type": "markdown",
   "metadata": {},
   "source": [
    "#### 4.2 Conversion to see contacts is different among users who downloaded the app from yandex source and google source."
   ]
  },
  {
   "cell_type": "code",
   "execution_count": 21,
   "metadata": {},
   "outputs": [
    {
     "name": "stdout",
     "output_type": "stream",
     "text": [
      "Number of unique users who installed the app from source yandex\n",
      "1934\n",
      "Number of unique users who installed the app from source yandex and performed the key feature step contacts_show:\n",
      "478\n",
      "\n",
      "Number of unique users who installed the app from source google:\n",
      "1129\n",
      "Number of unique users who installed the app from source google and performed the key feature step contacts_show:\n",
      "275\n",
      "\n",
      "P-value: 0.824\n",
      "Test statistic: 0.222\n",
      "Could not reject the null hypothesis\n"
     ]
    }
   ],
   "source": [
    "#define users who installed the app from source yandex\n",
    "yandex_users = mobile_sources[mobile_sources['source'] == 'yandex']['user.id'].unique()\n",
    "yandex_users_df = mobile_dataset[mobile_dataset['user.id'].isin(yandex_users)]\n",
    "print('Number of unique users who installed the app from source yandex')\n",
    "print(len(yandex_users))\n",
    "print('Number of unique users who installed the app from source yandex and performed the key feature step contacts_show:')\n",
    "print(len(yandex_users_df[yandex_users_df['event.name'] == 'contacts_show']['user.id'].unique()))\n",
    "\n",
    "print()\n",
    "\n",
    "#define users who installed the app from source google\n",
    "google_users = mobile_sources[mobile_sources['source'] == 'google']['user.id'].unique()\n",
    "google_users_df = mobile_dataset[mobile_dataset['user.id'].isin(google_users)]\n",
    "print('Number of unique users who installed the app from source google:')\n",
    "print(len(google_users))\n",
    "print('Number of unique users who installed the app from source google and performed the key feature step contacts_show:')\n",
    "print(len(google_users_df[google_users_df['event.name'] == 'contacts_show']['user.id'].unique()))\n",
    "\n",
    "print()\n",
    "\n",
    "#two-sided z-test\n",
    "count2 = np.array([478, 275])\n",
    "nobs2 = np.array([1934, 1129])\n",
    "stat2, pval2 = proportions_ztest(count2, nobs2, alternative='two-sided')\n",
    "\n",
    "print('P-value: {0:0.3f}'.format(pval2))\n",
    "print('Test statistic: {0:0.3f}'.format(stat2))\n",
    "\n",
    "if pval2 < alpha:\n",
    "    print(\"Reject null hypothesis\")\n",
    "else:\n",
    "    print(\"Could not reject the null hypothesis\")\n"
   ]
  },
  {
   "cell_type": "markdown",
   "metadata": {},
   "source": [
    "<b>H0:The conversion to contacts_show is equal between users who downloaded the app from google and from yandex.</b> \n",
    "\n",
    "P-value is more than the critical value, therefore, we can not reject the null hypothesis at 5% significance level."
   ]
  },
  {
   "cell_type": "markdown",
   "metadata": {},
   "source": [
    "<a id='5'></a> \n",
    "### 5. Conclusion"
   ]
  },
  {
   "cell_type": "markdown",
   "metadata": {},
   "source": [
    "We have performed an analysis of user behaviour in the \"Unnecessary things\" mobile app. 4293 users used the app from October 7th 2019 to November 3rd 2019.\n",
    "\n",
    "As a result of our study we found the following:\n",
    "\n",
    "1. About 45% of users downloaded the application from the source `google`, 20% from `yandex`, and the remaining - from other sources. \n",
    "\n",
    "2. The median session duration is 16 minutes.\n",
    "\n",
    "3. `contacts_show` key feature step was performed by 23% of users.\n",
    "\n",
    "4. The retention rate for users divided by weekly cohorts is 10-24%. The number of unique users on average increases during the study period and decreases only after the third week. \n",
    "\n",
    "The analysis of the `contacts_show` key feature shows that only 8 users directly jumped to the `contacts_show` step. The most frequent preceding events are  `photos_show`, `tips_show` and `map`. The median time before the user goes to `contacts_show` is 8 minutes, and 75% of users go to `contacts_show` 34 minutes after the current step.\n",
    "\n",
    "In general, the users who opened the `contacts_show` feature, also often went through `photos_show`, `search` and `advert_open` and other steps.\n",
    "\n",
    "As a result of A/B tests, we discovered that we can reject the null hypothesis that the conversion to `contacts_show` among users who perform both `tips_show` and `tips_click` steps is the same as among users who only perform `tips_show`. We also can not reject the hypothesis that the conversion to `contacts_show` is equal between users who downloaded the app from `google` and `yandex`.\n",
    "\n",
    "In conclusion, we could provide the following recommendations:\n",
    "1. As from the А/В test we found out that the conversion to the key feature step does not differ among users from \n",
    "`google` and `yandex` sources, therefore we could think bout cutting expenses for one of the sources.\n",
    "\n",
    "2. Only 23% of users used the `contacts_show` feature. Probably, one should study the `tips_click` step and understand why it is not in any of the feature scenarios; maybe the problem is in the `tips_click` step UI."
   ]
  },
  {
   "cell_type": "code",
   "execution_count": null,
   "metadata": {},
   "outputs": [],
   "source": []
  }
 ],
 "metadata": {
  "ExecuteTimeLog": [
   {
    "duration": 418,
    "start_time": "2022-04-20T18:01:18.588Z"
   },
   {
    "duration": 3,
    "start_time": "2022-04-20T18:02:06.727Z"
   },
   {
    "duration": 2,
    "start_time": "2022-04-20T18:02:11.020Z"
   },
   {
    "duration": 148,
    "start_time": "2022-04-20T18:03:20.967Z"
   },
   {
    "duration": 121,
    "start_time": "2022-04-20T18:04:14.743Z"
   },
   {
    "duration": 117,
    "start_time": "2022-04-20T18:04:41.666Z"
   },
   {
    "duration": 100,
    "start_time": "2022-04-20T18:05:12.040Z"
   },
   {
    "duration": 175,
    "start_time": "2022-04-20T18:05:28.546Z"
   },
   {
    "duration": 120,
    "start_time": "2022-04-20T18:05:44.689Z"
   },
   {
    "duration": 134,
    "start_time": "2022-04-20T18:06:17.602Z"
   },
   {
    "duration": 134,
    "start_time": "2022-04-20T18:06:30.627Z"
   },
   {
    "duration": 122,
    "start_time": "2022-04-20T18:07:08.241Z"
   },
   {
    "duration": 3,
    "start_time": "2022-04-20T18:10:51.259Z"
   },
   {
    "duration": 128,
    "start_time": "2022-04-20T18:10:54.027Z"
   },
   {
    "duration": 29,
    "start_time": "2022-04-20T18:11:06.454Z"
   },
   {
    "duration": 4,
    "start_time": "2022-04-20T18:12:11.461Z"
   },
   {
    "duration": 34,
    "start_time": "2022-04-20T18:12:14.499Z"
   },
   {
    "duration": 164,
    "start_time": "2022-04-20T18:12:34.033Z"
   },
   {
    "duration": 122,
    "start_time": "2022-04-20T18:12:59.368Z"
   },
   {
    "duration": 2,
    "start_time": "2022-04-20T18:16:38.101Z"
   },
   {
    "duration": 4664,
    "start_time": "2022-04-20T18:17:58.086Z"
   },
   {
    "duration": 20,
    "start_time": "2022-04-20T18:18:12.021Z"
   },
   {
    "duration": 4100,
    "start_time": "2022-04-20T18:19:21.361Z"
   },
   {
    "duration": 9,
    "start_time": "2022-04-20T18:55:20.187Z"
   },
   {
    "duration": 20,
    "start_time": "2022-04-20T18:56:15.479Z"
   },
   {
    "duration": 33,
    "start_time": "2022-04-20T18:56:26.963Z"
   },
   {
    "duration": 73,
    "start_time": "2022-04-21T04:46:31.508Z"
   },
   {
    "duration": 447,
    "start_time": "2022-04-21T04:46:36.042Z"
   },
   {
    "duration": 8781,
    "start_time": "2022-04-21T04:46:37.950Z"
   },
   {
    "duration": 8035,
    "start_time": "2022-04-21T04:49:14.098Z"
   },
   {
    "duration": 8833,
    "start_time": "2022-04-21T04:50:25.587Z"
   },
   {
    "duration": 7,
    "start_time": "2022-04-21T05:16:04.257Z"
   },
   {
    "duration": 9,
    "start_time": "2022-04-21T05:18:07.008Z"
   },
   {
    "duration": 10,
    "start_time": "2022-04-21T05:18:21.218Z"
   },
   {
    "duration": 9,
    "start_time": "2022-04-21T05:18:37.979Z"
   },
   {
    "duration": 1212,
    "start_time": "2022-04-21T05:19:21.761Z"
   },
   {
    "duration": 102,
    "start_time": "2022-04-21T05:21:33.128Z"
   },
   {
    "duration": 100,
    "start_time": "2022-04-21T05:22:39.996Z"
   },
   {
    "duration": 90,
    "start_time": "2022-04-21T05:23:31.875Z"
   },
   {
    "duration": 95,
    "start_time": "2022-04-21T05:24:02.803Z"
   },
   {
    "duration": 20,
    "start_time": "2022-04-21T05:24:21.505Z"
   },
   {
    "duration": 163,
    "start_time": "2022-04-21T05:24:37.033Z"
   },
   {
    "duration": 167,
    "start_time": "2022-04-21T05:26:30.000Z"
   },
   {
    "duration": 111,
    "start_time": "2022-04-21T05:27:00.239Z"
   },
   {
    "duration": 104,
    "start_time": "2022-04-21T05:27:20.806Z"
   },
   {
    "duration": 12,
    "start_time": "2022-04-21T05:29:33.517Z"
   },
   {
    "duration": 10,
    "start_time": "2022-04-21T05:30:31.309Z"
   },
   {
    "duration": 10,
    "start_time": "2022-04-21T05:42:59.870Z"
   },
   {
    "duration": 10,
    "start_time": "2022-04-21T05:43:08.200Z"
   },
   {
    "duration": 28,
    "start_time": "2022-04-21T05:43:24.261Z"
   },
   {
    "duration": 11,
    "start_time": "2022-04-21T05:43:47.359Z"
   },
   {
    "duration": 341,
    "start_time": "2022-04-21T05:44:25.135Z"
   },
   {
    "duration": 61,
    "start_time": "2022-04-21T05:44:28.260Z"
   },
   {
    "duration": 57,
    "start_time": "2022-04-21T05:44:48.689Z"
   },
   {
    "duration": 10,
    "start_time": "2022-04-21T05:45:10.068Z"
   },
   {
    "duration": 1540,
    "start_time": "2022-04-21T05:45:29.486Z"
   },
   {
    "duration": 8696,
    "start_time": "2022-04-21T05:45:31.029Z"
   },
   {
    "duration": 11,
    "start_time": "2022-04-21T05:45:39.729Z"
   },
   {
    "duration": 274,
    "start_time": "2022-04-21T05:45:50.401Z"
   },
   {
    "duration": 60,
    "start_time": "2022-04-21T05:45:52.740Z"
   },
   {
    "duration": 6,
    "start_time": "2022-04-21T05:46:12.373Z"
   },
   {
    "duration": 1483,
    "start_time": "2022-04-21T05:46:26.652Z"
   },
   {
    "duration": 7962,
    "start_time": "2022-04-21T05:46:28.138Z"
   },
   {
    "duration": 287,
    "start_time": "2022-04-21T05:46:36.103Z"
   },
   {
    "duration": 59,
    "start_time": "2022-04-21T05:46:42.704Z"
   },
   {
    "duration": 71,
    "start_time": "2022-04-21T10:41:51.395Z"
   },
   {
    "duration": 1675,
    "start_time": "2022-04-21T10:41:57.106Z"
   },
   {
    "duration": 8767,
    "start_time": "2022-04-21T10:42:02.205Z"
   },
   {
    "duration": 65,
    "start_time": "2022-04-21T10:42:34.095Z"
   },
   {
    "duration": 11,
    "start_time": "2022-04-21T10:42:40.343Z"
   },
   {
    "duration": 59,
    "start_time": "2022-04-21T10:46:22.261Z"
   },
   {
    "duration": 10,
    "start_time": "2022-04-21T10:47:12.286Z"
   },
   {
    "duration": 53,
    "start_time": "2022-04-21T15:07:40.413Z"
   },
   {
    "duration": 1410,
    "start_time": "2022-04-21T15:07:43.773Z"
   },
   {
    "duration": 4657,
    "start_time": "2022-04-21T15:07:45.186Z"
   },
   {
    "duration": 106,
    "start_time": "2022-04-21T15:07:49.845Z"
   },
   {
    "duration": 9,
    "start_time": "2022-04-21T15:07:49.952Z"
   },
   {
    "duration": 57,
    "start_time": "2022-04-21T15:07:49.963Z"
   },
   {
    "duration": 42,
    "start_time": "2022-04-21T15:07:50.033Z"
   },
   {
    "duration": 9,
    "start_time": "2022-04-21T15:07:50.077Z"
   },
   {
    "duration": 11,
    "start_time": "2022-04-21T15:10:13.872Z"
   },
   {
    "duration": 9,
    "start_time": "2022-04-21T15:10:26.711Z"
   },
   {
    "duration": 9,
    "start_time": "2022-04-21T15:10:42.358Z"
   },
   {
    "duration": 84,
    "start_time": "2022-04-21T15:12:35.886Z"
   },
   {
    "duration": 289,
    "start_time": "2022-04-21T15:14:24.202Z"
   },
   {
    "duration": 10,
    "start_time": "2022-04-21T15:14:29.619Z"
   },
   {
    "duration": 305,
    "start_time": "2022-04-21T15:14:38.733Z"
   },
   {
    "duration": 10,
    "start_time": "2022-04-21T15:14:40.518Z"
   },
   {
    "duration": 1348,
    "start_time": "2022-04-21T15:14:52.809Z"
   },
   {
    "duration": 4498,
    "start_time": "2022-04-21T15:14:54.159Z"
   },
   {
    "duration": 99,
    "start_time": "2022-04-21T15:14:58.659Z"
   },
   {
    "duration": 9,
    "start_time": "2022-04-21T15:14:58.760Z"
   },
   {
    "duration": 42,
    "start_time": "2022-04-21T15:14:58.771Z"
   },
   {
    "duration": 50,
    "start_time": "2022-04-21T15:14:58.815Z"
   },
   {
    "duration": 8,
    "start_time": "2022-04-21T15:14:58.866Z"
   },
   {
    "duration": 309,
    "start_time": "2022-04-21T15:14:58.876Z"
   },
   {
    "duration": 9,
    "start_time": "2022-04-21T15:14:59.187Z"
   },
   {
    "duration": 2864,
    "start_time": "2022-04-21T16:26:38.202Z"
   },
   {
    "duration": 15,
    "start_time": "2022-04-21T16:33:09.106Z"
   },
   {
    "duration": 20,
    "start_time": "2022-04-21T16:33:18.877Z"
   },
   {
    "duration": 33,
    "start_time": "2022-04-21T16:38:09.915Z"
   },
   {
    "duration": 40,
    "start_time": "2022-04-21T16:42:26.775Z"
   },
   {
    "duration": 41,
    "start_time": "2022-04-21T16:42:48.004Z"
   },
   {
    "duration": 53,
    "start_time": "2022-04-21T16:43:34.397Z"
   },
   {
    "duration": 38,
    "start_time": "2022-04-21T16:44:20.465Z"
   },
   {
    "duration": 41,
    "start_time": "2022-04-21T16:45:14.391Z"
   },
   {
    "duration": 46,
    "start_time": "2022-04-21T16:45:34.687Z"
   },
   {
    "duration": 44,
    "start_time": "2022-04-21T16:46:03.331Z"
   },
   {
    "duration": 47,
    "start_time": "2022-04-21T16:46:11.659Z"
   },
   {
    "duration": 49,
    "start_time": "2022-04-21T16:46:23.325Z"
   },
   {
    "duration": 41,
    "start_time": "2022-04-21T16:48:01.344Z"
   },
   {
    "duration": 40,
    "start_time": "2022-04-21T16:48:15.442Z"
   },
   {
    "duration": 37,
    "start_time": "2022-04-21T16:49:16.727Z"
   },
   {
    "duration": 95,
    "start_time": "2022-04-21T16:51:02.712Z"
   },
   {
    "duration": 847,
    "start_time": "2022-04-21T16:51:24.446Z"
   },
   {
    "duration": 96,
    "start_time": "2022-04-21T16:51:34.883Z"
   },
   {
    "duration": 89,
    "start_time": "2022-04-21T16:51:48.141Z"
   },
   {
    "duration": 93,
    "start_time": "2022-04-21T16:53:18.598Z"
   },
   {
    "duration": 1439,
    "start_time": "2022-04-21T18:25:21.753Z"
   },
   {
    "duration": 4586,
    "start_time": "2022-04-21T18:25:23.194Z"
   },
   {
    "duration": 94,
    "start_time": "2022-04-21T18:25:27.783Z"
   },
   {
    "duration": 11,
    "start_time": "2022-04-21T18:25:27.882Z"
   },
   {
    "duration": 48,
    "start_time": "2022-04-21T18:25:27.895Z"
   },
   {
    "duration": 56,
    "start_time": "2022-04-21T18:25:27.945Z"
   },
   {
    "duration": 9,
    "start_time": "2022-04-21T18:25:28.003Z"
   },
   {
    "duration": 317,
    "start_time": "2022-04-21T18:25:28.014Z"
   },
   {
    "duration": 105,
    "start_time": "2022-04-21T18:25:28.332Z"
   },
   {
    "duration": 97,
    "start_time": "2022-04-21T18:27:06.597Z"
   },
   {
    "duration": 105,
    "start_time": "2022-04-21T18:28:17.391Z"
   },
   {
    "duration": 96,
    "start_time": "2022-04-21T18:28:41.054Z"
   },
   {
    "duration": 100,
    "start_time": "2022-04-21T18:28:48.335Z"
   },
   {
    "duration": 95,
    "start_time": "2022-04-21T18:29:18.546Z"
   },
   {
    "duration": 95,
    "start_time": "2022-04-21T18:30:06.217Z"
   },
   {
    "duration": 12,
    "start_time": "2022-04-21T18:35:09.090Z"
   },
   {
    "duration": 117,
    "start_time": "2022-04-21T18:35:15.682Z"
   },
   {
    "duration": 28,
    "start_time": "2022-04-21T18:35:28.741Z"
   },
   {
    "duration": 6,
    "start_time": "2022-04-21T18:35:34.004Z"
   },
   {
    "duration": 31,
    "start_time": "2022-04-21T18:36:45.359Z"
   },
   {
    "duration": 25,
    "start_time": "2022-04-21T18:38:20.305Z"
   },
   {
    "duration": 11,
    "start_time": "2022-04-21T18:38:52.711Z"
   },
   {
    "duration": 12,
    "start_time": "2022-04-21T18:40:31.087Z"
   },
   {
    "duration": 126,
    "start_time": "2022-04-21T18:46:34.834Z"
   },
   {
    "duration": 11,
    "start_time": "2022-04-21T18:46:40.786Z"
   },
   {
    "duration": 17,
    "start_time": "2022-04-21T18:47:16.420Z"
   },
   {
    "duration": 114,
    "start_time": "2022-04-21T19:10:19.426Z"
   },
   {
    "duration": 23,
    "start_time": "2022-04-21T19:10:31.837Z"
   },
   {
    "duration": 22,
    "start_time": "2022-04-21T19:11:17.299Z"
   },
   {
    "duration": 97,
    "start_time": "2022-04-21T19:11:56.369Z"
   },
   {
    "duration": 55,
    "start_time": "2022-04-21T19:12:20.150Z"
   },
   {
    "duration": 27,
    "start_time": "2022-04-21T19:14:11.914Z"
   },
   {
    "duration": 34,
    "start_time": "2022-04-21T19:14:25.834Z"
   },
   {
    "duration": 116,
    "start_time": "2022-04-21T19:16:44.466Z"
   },
   {
    "duration": 31,
    "start_time": "2022-04-21T19:17:27.227Z"
   },
   {
    "duration": 67,
    "start_time": "2022-04-21T19:18:03.623Z"
   },
   {
    "duration": 64,
    "start_time": "2022-04-21T19:19:00.091Z"
   },
   {
    "duration": 42,
    "start_time": "2022-04-21T19:20:49.919Z"
   },
   {
    "duration": 28,
    "start_time": "2022-04-21T19:21:07.722Z"
   },
   {
    "duration": 65,
    "start_time": "2022-04-21T19:27:05.664Z"
   },
   {
    "duration": 67,
    "start_time": "2022-04-21T19:27:36.512Z"
   },
   {
    "duration": 4,
    "start_time": "2022-04-21T19:27:51.141Z"
   },
   {
    "duration": 28,
    "start_time": "2022-04-21T19:27:56.889Z"
   },
   {
    "duration": 32,
    "start_time": "2022-04-21T19:28:49.852Z"
   },
   {
    "duration": 28,
    "start_time": "2022-04-21T19:29:01.906Z"
   },
   {
    "duration": 27,
    "start_time": "2022-04-21T19:29:17.411Z"
   },
   {
    "duration": 74,
    "start_time": "2022-04-21T19:30:10.247Z"
   },
   {
    "duration": 84,
    "start_time": "2022-04-21T19:30:36.675Z"
   },
   {
    "duration": 44,
    "start_time": "2022-04-21T19:30:47.658Z"
   },
   {
    "duration": 27,
    "start_time": "2022-04-21T19:30:55.688Z"
   },
   {
    "duration": 4,
    "start_time": "2022-04-21T19:31:17.914Z"
   },
   {
    "duration": 24,
    "start_time": "2022-04-21T19:31:21.698Z"
   },
   {
    "duration": 49,
    "start_time": "2022-04-21T19:31:35.194Z"
   },
   {
    "duration": 75,
    "start_time": "2022-04-21T19:31:42.439Z"
   },
   {
    "duration": 39,
    "start_time": "2022-04-21T19:31:55.580Z"
   },
   {
    "duration": 43,
    "start_time": "2022-04-21T19:33:26.403Z"
   },
   {
    "duration": 54,
    "start_time": "2022-04-21T19:33:34.275Z"
   },
   {
    "duration": 49,
    "start_time": "2022-04-21T19:33:40.570Z"
   },
   {
    "duration": 48,
    "start_time": "2022-04-21T19:33:51.047Z"
   },
   {
    "duration": 45,
    "start_time": "2022-04-21T19:33:58.804Z"
   },
   {
    "duration": 129,
    "start_time": "2022-04-21T19:44:49.827Z"
   },
   {
    "duration": 39,
    "start_time": "2022-04-21T19:44:59.918Z"
   },
   {
    "duration": 47,
    "start_time": "2022-04-21T19:45:22.648Z"
   },
   {
    "duration": 42,
    "start_time": "2022-04-21T19:45:36.616Z"
   },
   {
    "duration": 42,
    "start_time": "2022-04-21T19:45:41.886Z"
   },
   {
    "duration": 44,
    "start_time": "2022-04-21T19:46:00.091Z"
   },
   {
    "duration": 53,
    "start_time": "2022-04-21T19:46:09.054Z"
   },
   {
    "duration": 52,
    "start_time": "2022-04-21T19:47:36.145Z"
   },
   {
    "duration": 87,
    "start_time": "2022-04-21T19:47:43.089Z"
   },
   {
    "duration": 121,
    "start_time": "2022-04-21T19:48:58.569Z"
   },
   {
    "duration": 1807,
    "start_time": "2022-04-22T13:17:52.266Z"
   },
   {
    "duration": 9084,
    "start_time": "2022-04-22T13:17:54.075Z"
   },
   {
    "duration": 123,
    "start_time": "2022-04-22T13:18:14.730Z"
   },
   {
    "duration": 12,
    "start_time": "2022-04-22T13:18:22.580Z"
   },
   {
    "duration": 62,
    "start_time": "2022-04-22T13:18:24.587Z"
   },
   {
    "duration": 58,
    "start_time": "2022-04-22T13:18:27.164Z"
   },
   {
    "duration": 11,
    "start_time": "2022-04-22T13:18:29.618Z"
   },
   {
    "duration": 446,
    "start_time": "2022-04-22T13:18:36.270Z"
   },
   {
    "duration": 130,
    "start_time": "2022-04-22T13:18:39.814Z"
   },
   {
    "duration": 32,
    "start_time": "2022-04-22T13:19:09.800Z"
   },
   {
    "duration": 52,
    "start_time": "2022-04-22T13:21:55.848Z"
   },
   {
    "duration": 469,
    "start_time": "2022-04-22T13:23:56.076Z"
   },
   {
    "duration": 494,
    "start_time": "2022-04-22T13:24:05.433Z"
   },
   {
    "duration": 469,
    "start_time": "2022-04-22T13:24:14.081Z"
   },
   {
    "duration": 614,
    "start_time": "2022-04-22T13:27:40.836Z"
   },
   {
    "duration": 519,
    "start_time": "2022-04-22T13:27:51.990Z"
   },
   {
    "duration": 530,
    "start_time": "2022-04-22T13:28:22.989Z"
   },
   {
    "duration": 505,
    "start_time": "2022-04-22T13:28:29.972Z"
   },
   {
    "duration": 619,
    "start_time": "2022-04-22T13:28:50.529Z"
   },
   {
    "duration": 517,
    "start_time": "2022-04-22T13:29:37.179Z"
   },
   {
    "duration": 518,
    "start_time": "2022-04-22T13:29:50.058Z"
   },
   {
    "duration": 510,
    "start_time": "2022-04-22T13:31:56.188Z"
   },
   {
    "duration": 511,
    "start_time": "2022-04-22T13:32:54.008Z"
   },
   {
    "duration": 518,
    "start_time": "2022-04-22T13:33:05.120Z"
   },
   {
    "duration": 511,
    "start_time": "2022-04-22T13:33:12.748Z"
   },
   {
    "duration": 592,
    "start_time": "2022-04-22T13:34:31.969Z"
   },
   {
    "duration": 594,
    "start_time": "2022-04-22T13:36:19.028Z"
   },
   {
    "duration": 98,
    "start_time": "2022-04-22T13:37:32.604Z"
   },
   {
    "duration": 2032,
    "start_time": "2022-04-22T13:37:46.798Z"
   },
   {
    "duration": 2001,
    "start_time": "2022-04-22T13:38:09.771Z"
   },
   {
    "duration": 2090,
    "start_time": "2022-04-22T13:38:46.081Z"
   },
   {
    "duration": 149,
    "start_time": "2022-04-22T13:38:56.409Z"
   },
   {
    "duration": 565,
    "start_time": "2022-04-22T13:39:54.020Z"
   },
   {
    "duration": 891,
    "start_time": "2022-04-22T13:40:18.204Z"
   },
   {
    "duration": 910,
    "start_time": "2022-04-22T13:40:46.514Z"
   },
   {
    "duration": 968,
    "start_time": "2022-04-22T13:41:04.613Z"
   },
   {
    "duration": 896,
    "start_time": "2022-04-22T13:41:13.764Z"
   },
   {
    "duration": 890,
    "start_time": "2022-04-22T13:41:42.654Z"
   },
   {
    "duration": 917,
    "start_time": "2022-04-22T13:42:17.428Z"
   },
   {
    "duration": 893,
    "start_time": "2022-04-22T13:42:26.589Z"
   },
   {
    "duration": 911,
    "start_time": "2022-04-22T13:42:41.899Z"
   },
   {
    "duration": 463,
    "start_time": "2022-04-22T13:43:37.449Z"
   },
   {
    "duration": 480,
    "start_time": "2022-04-22T13:44:44.234Z"
   },
   {
    "duration": 936,
    "start_time": "2022-04-22T13:45:09.768Z"
   },
   {
    "duration": 908,
    "start_time": "2022-04-22T13:45:21.919Z"
   },
   {
    "duration": 883,
    "start_time": "2022-04-22T13:45:37.799Z"
   },
   {
    "duration": 921,
    "start_time": "2022-04-22T13:45:44.644Z"
   },
   {
    "duration": 926,
    "start_time": "2022-04-22T13:46:45.554Z"
   },
   {
    "duration": 998,
    "start_time": "2022-04-22T13:47:23.105Z"
   },
   {
    "duration": 944,
    "start_time": "2022-04-22T13:47:35.823Z"
   },
   {
    "duration": 961,
    "start_time": "2022-04-22T13:48:29.118Z"
   },
   {
    "duration": 947,
    "start_time": "2022-04-22T13:49:01.968Z"
   },
   {
    "duration": 1027,
    "start_time": "2022-04-22T13:49:46.099Z"
   },
   {
    "duration": 965,
    "start_time": "2022-04-22T13:50:33.532Z"
   },
   {
    "duration": 973,
    "start_time": "2022-04-22T13:55:02.276Z"
   },
   {
    "duration": 965,
    "start_time": "2022-04-22T13:56:04.506Z"
   },
   {
    "duration": 1033,
    "start_time": "2022-04-22T13:56:27.873Z"
   },
   {
    "duration": 955,
    "start_time": "2022-04-22T13:57:00.485Z"
   },
   {
    "duration": 933,
    "start_time": "2022-04-22T13:57:28.169Z"
   },
   {
    "duration": 977,
    "start_time": "2022-04-22T13:57:59.990Z"
   },
   {
    "duration": 15,
    "start_time": "2022-04-22T13:58:24.441Z"
   },
   {
    "duration": 15,
    "start_time": "2022-04-22T13:58:42.508Z"
   },
   {
    "duration": 1027,
    "start_time": "2022-04-22T13:59:45.584Z"
   },
   {
    "duration": 15,
    "start_time": "2022-04-22T14:03:36.112Z"
   },
   {
    "duration": 24,
    "start_time": "2022-04-22T14:07:46.457Z"
   },
   {
    "duration": 113,
    "start_time": "2022-04-22T14:08:06.206Z"
   },
   {
    "duration": 103,
    "start_time": "2022-04-22T14:08:14.416Z"
   },
   {
    "duration": 24,
    "start_time": "2022-04-22T14:08:26.805Z"
   },
   {
    "duration": 5,
    "start_time": "2022-04-22T14:08:43.604Z"
   },
   {
    "duration": 23,
    "start_time": "2022-04-22T14:08:47.364Z"
   },
   {
    "duration": 48,
    "start_time": "2022-04-22T14:08:55.993Z"
   },
   {
    "duration": 46,
    "start_time": "2022-04-22T14:09:06.020Z"
   },
   {
    "duration": 57,
    "start_time": "2022-04-22T14:09:36.357Z"
   },
   {
    "duration": 66,
    "start_time": "2022-04-22T14:09:44.464Z"
   },
   {
    "duration": 64,
    "start_time": "2022-04-22T14:10:02.509Z"
   },
   {
    "duration": 54,
    "start_time": "2022-04-22T14:10:49.812Z"
   },
   {
    "duration": 1340,
    "start_time": "2022-04-22T14:17:16.059Z"
   },
   {
    "duration": 971,
    "start_time": "2022-04-22T14:17:31.358Z"
   },
   {
    "duration": 5,
    "start_time": "2022-04-22T14:41:05.765Z"
   },
   {
    "duration": 16,
    "start_time": "2022-04-22T14:41:09.751Z"
   },
   {
    "duration": 29,
    "start_time": "2022-04-22T14:41:16.348Z"
   },
   {
    "duration": 15,
    "start_time": "2022-04-22T14:41:22.840Z"
   },
   {
    "duration": 23,
    "start_time": "2022-04-22T14:43:36.621Z"
   },
   {
    "duration": 23,
    "start_time": "2022-04-22T14:44:05.627Z"
   },
   {
    "duration": 15,
    "start_time": "2022-04-22T14:45:29.979Z"
   },
   {
    "duration": 70,
    "start_time": "2022-04-23T08:06:37.395Z"
   },
   {
    "duration": 1929,
    "start_time": "2022-04-23T08:06:41.044Z"
   },
   {
    "duration": 9439,
    "start_time": "2022-04-23T08:06:42.976Z"
   },
   {
    "duration": 149,
    "start_time": "2022-04-23T08:06:52.419Z"
   },
   {
    "duration": 17,
    "start_time": "2022-04-23T08:06:52.570Z"
   },
   {
    "duration": 115,
    "start_time": "2022-04-23T08:06:52.591Z"
   },
   {
    "duration": 59,
    "start_time": "2022-04-23T08:06:52.708Z"
   },
   {
    "duration": 24,
    "start_time": "2022-04-23T08:06:52.770Z"
   },
   {
    "duration": 607,
    "start_time": "2022-04-23T08:06:52.797Z"
   },
   {
    "duration": 153,
    "start_time": "2022-04-23T08:06:53.407Z"
   },
   {
    "duration": 45,
    "start_time": "2022-04-23T08:06:53.562Z"
   },
   {
    "duration": 1092,
    "start_time": "2022-04-23T08:06:53.610Z"
   },
   {
    "duration": 53,
    "start_time": "2022-04-23T08:06:54.704Z"
   },
   {
    "duration": 49,
    "start_time": "2022-04-23T08:06:54.759Z"
   },
   {
    "duration": 14,
    "start_time": "2022-04-23T08:07:20.115Z"
   },
   {
    "duration": 40,
    "start_time": "2022-04-23T08:08:54.638Z"
   },
   {
    "duration": 22,
    "start_time": "2022-04-23T08:09:21.692Z"
   },
   {
    "duration": 119,
    "start_time": "2022-04-23T08:10:19.632Z"
   },
   {
    "duration": 122,
    "start_time": "2022-04-23T08:10:28.742Z"
   },
   {
    "duration": 34,
    "start_time": "2022-04-23T08:11:00.197Z"
   },
   {
    "duration": 25,
    "start_time": "2022-04-23T08:11:21.052Z"
   },
   {
    "duration": 31,
    "start_time": "2022-04-23T08:11:36.765Z"
   },
   {
    "duration": 39,
    "start_time": "2022-04-23T08:15:41.638Z"
   },
   {
    "duration": 30,
    "start_time": "2022-04-23T08:15:50.011Z"
   },
   {
    "duration": 43,
    "start_time": "2022-04-23T08:15:57.268Z"
   },
   {
    "duration": 43,
    "start_time": "2022-04-23T08:16:10.248Z"
   },
   {
    "duration": 34,
    "start_time": "2022-04-23T08:16:19.014Z"
   },
   {
    "duration": 36,
    "start_time": "2022-04-23T08:16:38.733Z"
   },
   {
    "duration": 52,
    "start_time": "2022-04-23T08:16:52.053Z"
   },
   {
    "duration": 30,
    "start_time": "2022-04-23T08:20:45.280Z"
   },
   {
    "duration": 12,
    "start_time": "2022-04-23T08:20:50.840Z"
   },
   {
    "duration": 22,
    "start_time": "2022-04-23T08:20:57.939Z"
   },
   {
    "duration": 17,
    "start_time": "2022-04-23T08:23:05.019Z"
   },
   {
    "duration": 27,
    "start_time": "2022-04-23T08:24:09.139Z"
   },
   {
    "duration": 16,
    "start_time": "2022-04-23T08:24:22.357Z"
   },
   {
    "duration": 39,
    "start_time": "2022-04-23T08:27:29.858Z"
   },
   {
    "duration": 58,
    "start_time": "2022-04-23T08:27:42.071Z"
   },
   {
    "duration": 63,
    "start_time": "2022-04-23T08:27:53.058Z"
   },
   {
    "duration": 39,
    "start_time": "2022-04-23T08:28:44.419Z"
   },
   {
    "duration": 64,
    "start_time": "2022-04-23T08:29:14.973Z"
   },
   {
    "duration": 50,
    "start_time": "2022-04-23T08:29:24.607Z"
   },
   {
    "duration": 16,
    "start_time": "2022-04-23T08:30:39.604Z"
   },
   {
    "duration": 132,
    "start_time": "2022-04-23T08:30:49.272Z"
   },
   {
    "duration": 43,
    "start_time": "2022-04-23T08:31:24.678Z"
   },
   {
    "duration": 52,
    "start_time": "2022-04-23T08:31:38.654Z"
   },
   {
    "duration": 42,
    "start_time": "2022-04-23T08:31:54.924Z"
   },
   {
    "duration": 54,
    "start_time": "2022-04-23T08:32:24.239Z"
   },
   {
    "duration": 47,
    "start_time": "2022-04-23T08:32:55.625Z"
   },
   {
    "duration": 45,
    "start_time": "2022-04-23T08:33:21.262Z"
   },
   {
    "duration": 63,
    "start_time": "2022-04-23T08:33:36.283Z"
   },
   {
    "duration": 64,
    "start_time": "2022-04-23T08:37:50.665Z"
   },
   {
    "duration": 34,
    "start_time": "2022-04-23T08:42:08.023Z"
   },
   {
    "duration": 34,
    "start_time": "2022-04-23T08:42:18.663Z"
   },
   {
    "duration": 23,
    "start_time": "2022-04-23T08:42:36.510Z"
   },
   {
    "duration": 46,
    "start_time": "2022-04-23T08:42:46.199Z"
   },
   {
    "duration": 60,
    "start_time": "2022-04-23T08:43:07.707Z"
   },
   {
    "duration": 63,
    "start_time": "2022-04-23T08:43:37.629Z"
   },
   {
    "duration": 44,
    "start_time": "2022-04-23T08:57:20.234Z"
   },
   {
    "duration": 59,
    "start_time": "2022-04-23T08:57:37.655Z"
   },
   {
    "duration": 31,
    "start_time": "2022-04-23T08:57:54.406Z"
   },
   {
    "duration": 6,
    "start_time": "2022-04-23T08:58:38.037Z"
   },
   {
    "duration": 53,
    "start_time": "2022-04-23T08:58:43.886Z"
   },
   {
    "duration": 49,
    "start_time": "2022-04-23T09:00:11.972Z"
   },
   {
    "duration": 30,
    "start_time": "2022-04-23T09:01:09.521Z"
   },
   {
    "duration": 44,
    "start_time": "2022-04-23T09:01:36.023Z"
   },
   {
    "duration": 31,
    "start_time": "2022-04-23T09:03:41.021Z"
   },
   {
    "duration": 38,
    "start_time": "2022-04-23T09:03:48.486Z"
   },
   {
    "duration": 42,
    "start_time": "2022-04-23T09:03:55.908Z"
   },
   {
    "duration": 44,
    "start_time": "2022-04-23T09:04:03.329Z"
   },
   {
    "duration": 49,
    "start_time": "2022-04-23T09:04:54.998Z"
   },
   {
    "duration": 52,
    "start_time": "2022-04-23T09:06:28.822Z"
   },
   {
    "duration": 1423,
    "start_time": "2022-04-23T11:03:50.067Z"
   },
   {
    "duration": 4481,
    "start_time": "2022-04-23T11:03:51.493Z"
   },
   {
    "duration": 96,
    "start_time": "2022-04-23T11:03:55.975Z"
   },
   {
    "duration": 7,
    "start_time": "2022-04-23T11:03:56.073Z"
   },
   {
    "duration": 36,
    "start_time": "2022-04-23T11:03:56.082Z"
   },
   {
    "duration": 62,
    "start_time": "2022-04-23T11:03:56.119Z"
   },
   {
    "duration": 11,
    "start_time": "2022-04-23T11:03:56.182Z"
   },
   {
    "duration": 302,
    "start_time": "2022-04-23T11:03:56.196Z"
   },
   {
    "duration": 99,
    "start_time": "2022-04-23T11:03:56.499Z"
   },
   {
    "duration": 22,
    "start_time": "2022-04-23T11:03:56.600Z"
   },
   {
    "duration": 637,
    "start_time": "2022-04-23T11:03:56.623Z"
   },
   {
    "duration": 34,
    "start_time": "2022-04-23T11:03:57.262Z"
   },
   {
    "duration": 24,
    "start_time": "2022-04-23T11:03:57.298Z"
   },
   {
    "duration": 158,
    "start_time": "2022-04-23T11:03:57.325Z"
   },
   {
    "duration": 31,
    "start_time": "2022-04-23T11:06:01.823Z"
   },
   {
    "duration": 35,
    "start_time": "2022-04-23T11:06:10.789Z"
   },
   {
    "duration": 36,
    "start_time": "2022-04-23T11:06:19.624Z"
   },
   {
    "duration": 23,
    "start_time": "2022-04-23T11:11:05.144Z"
   },
   {
    "duration": 12,
    "start_time": "2022-04-23T11:11:19.210Z"
   },
   {
    "duration": 9,
    "start_time": "2022-04-23T11:11:24.919Z"
   },
   {
    "duration": 3,
    "start_time": "2022-04-23T11:11:39.313Z"
   },
   {
    "duration": 26,
    "start_time": "2022-04-23T11:11:49.831Z"
   },
   {
    "duration": 50,
    "start_time": "2022-04-23T11:17:01.663Z"
   },
   {
    "duration": 118,
    "start_time": "2022-04-23T11:17:19.454Z"
   },
   {
    "duration": 113,
    "start_time": "2022-04-23T11:17:27.351Z"
   },
   {
    "duration": 33,
    "start_time": "2022-04-23T11:17:41.721Z"
   },
   {
    "duration": 33,
    "start_time": "2022-04-23T11:19:03.269Z"
   },
   {
    "duration": 41,
    "start_time": "2022-04-23T11:19:17.033Z"
   },
   {
    "duration": 16,
    "start_time": "2022-04-23T11:21:34.193Z"
   },
   {
    "duration": 490,
    "start_time": "2022-04-23T11:21:49.295Z"
   },
   {
    "duration": 448,
    "start_time": "2022-04-23T11:22:28.398Z"
   },
   {
    "duration": 26,
    "start_time": "2022-04-23T11:22:43.693Z"
   },
   {
    "duration": 23,
    "start_time": "2022-04-23T11:23:37.293Z"
   },
   {
    "duration": 38,
    "start_time": "2022-04-23T11:25:48.170Z"
   },
   {
    "duration": 20,
    "start_time": "2022-04-23T11:26:24.944Z"
   },
   {
    "duration": 20,
    "start_time": "2022-04-23T11:26:30.528Z"
   },
   {
    "duration": 1257,
    "start_time": "2022-04-23T11:26:55.475Z"
   },
   {
    "duration": 5824,
    "start_time": "2022-04-23T11:26:56.735Z"
   },
   {
    "duration": 72,
    "start_time": "2022-04-23T11:27:02.561Z"
   },
   {
    "duration": 8,
    "start_time": "2022-04-23T11:27:02.647Z"
   },
   {
    "duration": 38,
    "start_time": "2022-04-23T11:27:02.659Z"
   },
   {
    "duration": 54,
    "start_time": "2022-04-23T11:27:02.699Z"
   },
   {
    "duration": 7,
    "start_time": "2022-04-23T11:27:02.755Z"
   },
   {
    "duration": 281,
    "start_time": "2022-04-23T11:27:02.764Z"
   },
   {
    "duration": 100,
    "start_time": "2022-04-23T11:27:03.047Z"
   },
   {
    "duration": 25,
    "start_time": "2022-04-23T11:27:03.149Z"
   },
   {
    "duration": 611,
    "start_time": "2022-04-23T11:27:03.176Z"
   },
   {
    "duration": 35,
    "start_time": "2022-04-23T11:27:03.789Z"
   },
   {
    "duration": 41,
    "start_time": "2022-04-23T11:27:03.826Z"
   },
   {
    "duration": 25,
    "start_time": "2022-04-23T11:27:03.869Z"
   },
   {
    "duration": 105,
    "start_time": "2022-04-23T11:27:46.852Z"
   },
   {
    "duration": 27,
    "start_time": "2022-04-23T11:28:12.376Z"
   },
   {
    "duration": 1132,
    "start_time": "2022-04-23T11:28:27.496Z"
   },
   {
    "duration": 6686,
    "start_time": "2022-04-23T11:28:28.630Z"
   },
   {
    "duration": 124,
    "start_time": "2022-04-23T11:28:35.317Z"
   },
   {
    "duration": 11,
    "start_time": "2022-04-23T11:28:35.443Z"
   },
   {
    "duration": 35,
    "start_time": "2022-04-23T11:28:35.456Z"
   },
   {
    "duration": 54,
    "start_time": "2022-04-23T11:28:35.493Z"
   },
   {
    "duration": 7,
    "start_time": "2022-04-23T11:28:35.549Z"
   },
   {
    "duration": 271,
    "start_time": "2022-04-23T11:28:35.558Z"
   },
   {
    "duration": 88,
    "start_time": "2022-04-23T11:28:35.831Z"
   },
   {
    "duration": 41,
    "start_time": "2022-04-23T11:28:35.921Z"
   },
   {
    "duration": 854,
    "start_time": "2022-04-23T11:28:35.964Z"
   },
   {
    "duration": 56,
    "start_time": "2022-04-23T11:28:36.820Z"
   },
   {
    "duration": 30,
    "start_time": "2022-04-23T11:28:36.878Z"
   },
   {
    "duration": 37,
    "start_time": "2022-04-23T11:28:36.910Z"
   },
   {
    "duration": 20,
    "start_time": "2022-04-23T11:28:36.949Z"
   },
   {
    "duration": 16,
    "start_time": "2022-04-23T11:28:45.211Z"
   },
   {
    "duration": 109,
    "start_time": "2022-04-23T11:30:12.901Z"
   },
   {
    "duration": 28,
    "start_time": "2022-04-23T11:30:19.220Z"
   },
   {
    "duration": 69,
    "start_time": "2022-04-23T11:30:57.777Z"
   },
   {
    "duration": 148,
    "start_time": "2022-04-23T11:32:14.178Z"
   },
   {
    "duration": 78,
    "start_time": "2022-04-23T11:33:08.384Z"
   },
   {
    "duration": 75,
    "start_time": "2022-04-23T11:33:35.721Z"
   },
   {
    "duration": 113,
    "start_time": "2022-04-23T11:34:07.253Z"
   },
   {
    "duration": 81,
    "start_time": "2022-04-23T11:34:44.064Z"
   },
   {
    "duration": 3,
    "start_time": "2022-04-23T11:36:03.966Z"
   },
   {
    "duration": 10,
    "start_time": "2022-04-23T11:38:19.404Z"
   },
   {
    "duration": 29,
    "start_time": "2022-04-23T11:39:09.237Z"
   },
   {
    "duration": 17,
    "start_time": "2022-04-23T11:39:18.258Z"
   },
   {
    "duration": 137,
    "start_time": "2022-04-23T11:41:45.074Z"
   },
   {
    "duration": 17,
    "start_time": "2022-04-23T11:41:55.384Z"
   },
   {
    "duration": 30,
    "start_time": "2022-04-23T11:46:40.237Z"
   },
   {
    "duration": 16,
    "start_time": "2022-04-23T11:46:59.975Z"
   },
   {
    "duration": 32,
    "start_time": "2022-04-23T11:54:10.659Z"
   },
   {
    "duration": 17,
    "start_time": "2022-04-23T11:54:19.766Z"
   },
   {
    "duration": 20,
    "start_time": "2022-04-23T11:55:05.091Z"
   },
   {
    "duration": 20,
    "start_time": "2022-04-23T11:55:53.670Z"
   },
   {
    "duration": 18,
    "start_time": "2022-04-23T11:56:55.476Z"
   },
   {
    "duration": 31,
    "start_time": "2022-04-23T11:57:24.920Z"
   },
   {
    "duration": 22,
    "start_time": "2022-04-23T11:57:32.346Z"
   },
   {
    "duration": 26,
    "start_time": "2022-04-23T11:57:45.709Z"
   },
   {
    "duration": 16,
    "start_time": "2022-04-23T11:59:21.786Z"
   },
   {
    "duration": 15,
    "start_time": "2022-04-23T11:59:46.818Z"
   },
   {
    "duration": 13,
    "start_time": "2022-04-23T12:00:01.864Z"
   },
   {
    "duration": 11,
    "start_time": "2022-04-23T12:00:17.974Z"
   },
   {
    "duration": 16,
    "start_time": "2022-04-23T12:00:31.623Z"
   },
   {
    "duration": 16,
    "start_time": "2022-04-23T12:02:07.957Z"
   },
   {
    "duration": 22,
    "start_time": "2022-04-23T12:02:49.705Z"
   },
   {
    "duration": 95,
    "start_time": "2022-04-23T12:03:27.075Z"
   },
   {
    "duration": 23,
    "start_time": "2022-04-23T12:05:05.546Z"
   },
   {
    "duration": 21,
    "start_time": "2022-04-23T12:05:26.167Z"
   },
   {
    "duration": 23,
    "start_time": "2022-04-23T12:05:47.087Z"
   },
   {
    "duration": 118,
    "start_time": "2022-04-23T12:06:19.861Z"
   },
   {
    "duration": 137,
    "start_time": "2022-04-23T12:07:00.993Z"
   },
   {
    "duration": 12,
    "start_time": "2022-04-23T12:19:36.261Z"
   },
   {
    "duration": 25,
    "start_time": "2022-04-23T12:23:09.797Z"
   },
   {
    "duration": 27,
    "start_time": "2022-04-23T12:23:23.902Z"
   },
   {
    "duration": 50,
    "start_time": "2022-04-23T12:23:51.665Z"
   },
   {
    "duration": 28,
    "start_time": "2022-04-23T12:24:46.861Z"
   },
   {
    "duration": 51,
    "start_time": "2022-04-23T12:25:10.436Z"
   },
   {
    "duration": 37,
    "start_time": "2022-04-23T12:25:28.749Z"
   },
   {
    "duration": 109,
    "start_time": "2022-04-23T12:25:52.777Z"
   },
   {
    "duration": 103,
    "start_time": "2022-04-23T12:25:59.387Z"
   },
   {
    "duration": 28,
    "start_time": "2022-04-23T12:35:51.340Z"
   },
   {
    "duration": 3,
    "start_time": "2022-04-23T12:40:42.933Z"
   },
   {
    "duration": 4,
    "start_time": "2022-04-23T12:41:04.981Z"
   },
   {
    "duration": 4,
    "start_time": "2022-04-23T13:34:00.833Z"
   },
   {
    "duration": 128,
    "start_time": "2022-04-23T13:34:13.668Z"
   },
   {
    "duration": 107,
    "start_time": "2022-04-23T13:35:16.966Z"
   },
   {
    "duration": 113,
    "start_time": "2022-04-23T13:35:44.972Z"
   },
   {
    "duration": 126,
    "start_time": "2022-04-23T13:36:10.972Z"
   },
   {
    "duration": 27,
    "start_time": "2022-04-23T13:36:29.460Z"
   },
   {
    "duration": 468,
    "start_time": "2022-04-23T13:38:48.732Z"
   },
   {
    "duration": 15,
    "start_time": "2022-04-23T13:42:05.578Z"
   },
   {
    "duration": 9,
    "start_time": "2022-04-23T13:45:06.072Z"
   },
   {
    "duration": 31,
    "start_time": "2022-04-23T13:46:07.788Z"
   },
   {
    "duration": 16,
    "start_time": "2022-04-23T13:48:14.710Z"
   },
   {
    "duration": 26,
    "start_time": "2022-04-23T13:48:38.102Z"
   },
   {
    "duration": 58,
    "start_time": "2022-04-23T13:51:13.332Z"
   },
   {
    "duration": 40,
    "start_time": "2022-04-23T13:51:27.436Z"
   },
   {
    "duration": 38,
    "start_time": "2022-04-23T13:51:39.884Z"
   },
   {
    "duration": 43,
    "start_time": "2022-04-23T13:52:19.053Z"
   },
   {
    "duration": 42,
    "start_time": "2022-04-23T13:52:33.076Z"
   },
   {
    "duration": 48,
    "start_time": "2022-04-23T13:58:13.635Z"
   },
   {
    "duration": 60,
    "start_time": "2022-04-23T13:58:40.442Z"
   },
   {
    "duration": 57,
    "start_time": "2022-04-23T14:00:39.096Z"
   },
   {
    "duration": 70,
    "start_time": "2022-04-23T14:00:56.111Z"
   },
   {
    "duration": 2046,
    "start_time": "2022-04-23T14:01:37.720Z"
   },
   {
    "duration": 64,
    "start_time": "2022-04-23T14:01:50.511Z"
   },
   {
    "duration": 1842,
    "start_time": "2022-04-23T14:03:20.461Z"
   },
   {
    "duration": 34,
    "start_time": "2022-04-23T14:03:38.672Z"
   },
   {
    "duration": 47,
    "start_time": "2022-04-23T14:03:49.332Z"
   },
   {
    "duration": 40,
    "start_time": "2022-04-23T14:04:27.397Z"
   },
   {
    "duration": 45,
    "start_time": "2022-04-23T14:04:49.083Z"
   },
   {
    "duration": 49,
    "start_time": "2022-04-23T14:06:30.059Z"
   },
   {
    "duration": 37,
    "start_time": "2022-04-23T14:07:25.361Z"
   },
   {
    "duration": 50,
    "start_time": "2022-04-23T14:07:42.468Z"
   },
   {
    "duration": 68,
    "start_time": "2022-04-23T14:10:24.365Z"
   },
   {
    "duration": 109,
    "start_time": "2022-04-23T14:10:59.769Z"
   },
   {
    "duration": 141,
    "start_time": "2022-04-23T14:12:16.935Z"
   },
   {
    "duration": 58,
    "start_time": "2022-04-23T14:14:03.065Z"
   },
   {
    "duration": 85,
    "start_time": "2022-04-23T14:14:39.706Z"
   },
   {
    "duration": 63,
    "start_time": "2022-04-23T14:15:21.261Z"
   },
   {
    "duration": 74,
    "start_time": "2022-04-23T14:15:39.093Z"
   },
   {
    "duration": 58,
    "start_time": "2022-04-23T14:15:57.758Z"
   },
   {
    "duration": 9,
    "start_time": "2022-04-23T14:17:54.404Z"
   },
   {
    "duration": 4,
    "start_time": "2022-04-23T14:18:16.338Z"
   },
   {
    "duration": 5,
    "start_time": "2022-04-23T14:18:20.313Z"
   },
   {
    "duration": 327,
    "start_time": "2022-04-23T14:42:15.545Z"
   },
   {
    "duration": 352,
    "start_time": "2022-04-23T14:42:26.082Z"
   },
   {
    "duration": 399,
    "start_time": "2022-04-23T14:42:53.361Z"
   },
   {
    "duration": 500,
    "start_time": "2022-04-23T14:43:29.920Z"
   },
   {
    "duration": 310,
    "start_time": "2022-04-23T14:47:42.226Z"
   },
   {
    "duration": 7,
    "start_time": "2022-04-23T14:50:24.735Z"
   },
   {
    "duration": 24,
    "start_time": "2022-04-23T14:50:57.760Z"
   },
   {
    "duration": 10,
    "start_time": "2022-04-23T14:54:18.073Z"
   },
   {
    "duration": 48,
    "start_time": "2022-04-23T14:54:35.324Z"
   },
   {
    "duration": 59,
    "start_time": "2022-04-23T14:55:00.313Z"
   },
   {
    "duration": 66,
    "start_time": "2022-04-23T14:55:21.519Z"
   },
   {
    "duration": 40,
    "start_time": "2022-04-23T14:55:32.273Z"
   },
   {
    "duration": 9,
    "start_time": "2022-04-23T14:55:34.898Z"
   },
   {
    "duration": 66,
    "start_time": "2022-04-23T14:56:49.197Z"
   },
   {
    "duration": 45,
    "start_time": "2022-04-23T14:57:04.601Z"
   },
   {
    "duration": 26,
    "start_time": "2022-04-23T14:57:06.812Z"
   },
   {
    "duration": 314,
    "start_time": "2022-04-23T14:57:09.695Z"
   },
   {
    "duration": 12,
    "start_time": "2022-04-23T14:58:23.415Z"
   },
   {
    "duration": 46,
    "start_time": "2022-04-23T14:58:54.858Z"
   },
   {
    "duration": 41,
    "start_time": "2022-04-23T14:59:08.673Z"
   },
   {
    "duration": 308,
    "start_time": "2022-04-23T14:59:41.598Z"
   },
   {
    "duration": 205,
    "start_time": "2022-04-23T15:00:25.873Z"
   },
   {
    "duration": 31,
    "start_time": "2022-04-23T15:00:52.772Z"
   },
   {
    "duration": 461,
    "start_time": "2022-04-23T15:01:32.896Z"
   },
   {
    "duration": 64,
    "start_time": "2022-04-23T15:02:09.455Z"
   },
   {
    "duration": 321,
    "start_time": "2022-04-23T15:03:15.481Z"
   },
   {
    "duration": 1875,
    "start_time": "2022-04-25T05:17:22.609Z"
   },
   {
    "duration": 10061,
    "start_time": "2022-04-25T05:17:34.366Z"
   },
   {
    "duration": 127,
    "start_time": "2022-04-25T05:17:51.638Z"
   },
   {
    "duration": 12,
    "start_time": "2022-04-25T05:18:07.901Z"
   },
   {
    "duration": 63,
    "start_time": "2022-04-25T05:18:11.379Z"
   },
   {
    "duration": 103,
    "start_time": "2022-04-25T05:18:15.350Z"
   },
   {
    "duration": 12,
    "start_time": "2022-04-25T05:18:18.574Z"
   },
   {
    "duration": 450,
    "start_time": "2022-04-25T05:18:57.517Z"
   },
   {
    "duration": 145,
    "start_time": "2022-04-25T05:19:37.422Z"
   },
   {
    "duration": 99,
    "start_time": "2022-04-25T05:24:50.690Z"
   },
   {
    "duration": 434,
    "start_time": "2022-04-25T05:35:50.558Z"
   },
   {
    "duration": 463,
    "start_time": "2022-04-25T05:37:23.808Z"
   },
   {
    "duration": 41,
    "start_time": "2022-04-25T05:38:58.566Z"
   },
   {
    "duration": 441,
    "start_time": "2022-04-25T05:39:34.318Z"
   },
   {
    "duration": 453,
    "start_time": "2022-04-25T05:39:42.071Z"
   },
   {
    "duration": 30,
    "start_time": "2022-04-25T05:42:42.292Z"
   },
   {
    "duration": 83,
    "start_time": "2022-04-25T05:44:18.536Z"
   },
   {
    "duration": 1650,
    "start_time": "2022-04-25T05:46:22.351Z"
   },
   {
    "duration": 68,
    "start_time": "2022-04-25T05:55:56.627Z"
   },
   {
    "duration": 49,
    "start_time": "2022-04-25T13:01:38.689Z"
   },
   {
    "duration": 1271,
    "start_time": "2022-04-25T13:01:49.620Z"
   },
   {
    "duration": 4296,
    "start_time": "2022-04-25T13:01:50.938Z"
   },
   {
    "duration": 89,
    "start_time": "2022-04-25T13:01:55.236Z"
   },
   {
    "duration": 72,
    "start_time": "2022-04-25T13:01:59.216Z"
   },
   {
    "duration": 7,
    "start_time": "2022-04-25T13:02:02.416Z"
   },
   {
    "duration": 42,
    "start_time": "2022-04-25T13:02:05.672Z"
   },
   {
    "duration": 39,
    "start_time": "2022-04-25T13:02:07.576Z"
   },
   {
    "duration": 7,
    "start_time": "2022-04-25T13:02:09.354Z"
   },
   {
    "duration": 71,
    "start_time": "2022-04-25T13:02:13.872Z"
   },
   {
    "duration": 297,
    "start_time": "2022-04-25T13:02:20.539Z"
   },
   {
    "duration": 94,
    "start_time": "2022-04-25T13:02:24.004Z"
   },
   {
    "duration": 22,
    "start_time": "2022-04-25T13:02:27.527Z"
   },
   {
    "duration": 612,
    "start_time": "2022-04-25T13:02:45.339Z"
   },
   {
    "duration": 47,
    "start_time": "2022-04-25T13:02:51.608Z"
   },
   {
    "duration": 51,
    "start_time": "2022-04-25T13:03:31.670Z"
   },
   {
    "duration": 9,
    "start_time": "2022-04-25T13:06:37.242Z"
   },
   {
    "duration": 12,
    "start_time": "2022-04-25T13:07:00.555Z"
   },
   {
    "duration": 22,
    "start_time": "2022-04-25T13:08:55.436Z"
   },
   {
    "duration": 22,
    "start_time": "2022-04-25T13:10:27.597Z"
   },
   {
    "duration": 25,
    "start_time": "2022-04-25T13:11:57.110Z"
   },
   {
    "duration": 19,
    "start_time": "2022-04-25T13:13:07.458Z"
   },
   {
    "duration": 27,
    "start_time": "2022-04-25T13:13:41.552Z"
   },
   {
    "duration": 1747,
    "start_time": "2022-04-26T15:43:38.911Z"
   },
   {
    "duration": 8360,
    "start_time": "2022-04-26T15:43:40.660Z"
   },
   {
    "duration": 145,
    "start_time": "2022-04-26T15:43:49.022Z"
   },
   {
    "duration": 12,
    "start_time": "2022-04-26T15:43:49.169Z"
   },
   {
    "duration": 84,
    "start_time": "2022-04-26T15:43:49.183Z"
   },
   {
    "duration": 64,
    "start_time": "2022-04-26T15:43:49.269Z"
   },
   {
    "duration": 24,
    "start_time": "2022-04-26T15:43:49.336Z"
   },
   {
    "duration": 559,
    "start_time": "2022-04-26T15:43:49.362Z"
   },
   {
    "duration": 136,
    "start_time": "2022-04-26T15:43:49.923Z"
   },
   {
    "duration": 31,
    "start_time": "2022-04-26T15:43:50.065Z"
   },
   {
    "duration": 1037,
    "start_time": "2022-04-26T15:43:50.099Z"
   },
   {
    "duration": 66,
    "start_time": "2022-04-26T15:43:51.138Z"
   },
   {
    "duration": 49,
    "start_time": "2022-04-26T15:43:51.219Z"
   },
   {
    "duration": 34,
    "start_time": "2022-04-26T15:43:51.271Z"
   },
   {
    "duration": 315,
    "start_time": "2022-04-26T15:43:51.308Z"
   },
   {
    "duration": 185,
    "start_time": "2022-04-26T15:43:51.626Z"
   },
   {
    "duration": 194,
    "start_time": "2022-04-26T15:43:51.813Z"
   },
   {
    "duration": 0,
    "start_time": "2022-04-26T15:43:52.009Z"
   },
   {
    "duration": 0,
    "start_time": "2022-04-26T15:43:52.011Z"
   },
   {
    "duration": 0,
    "start_time": "2022-04-26T15:43:52.013Z"
   },
   {
    "duration": 56,
    "start_time": "2022-04-26T15:56:08.349Z"
   },
   {
    "duration": 387,
    "start_time": "2022-04-26T15:56:11.448Z"
   },
   {
    "duration": 48,
    "start_time": "2022-04-26T15:56:42.839Z"
   },
   {
    "duration": 364,
    "start_time": "2022-04-26T15:56:45.402Z"
   },
   {
    "duration": 2051,
    "start_time": "2022-04-27T12:21:31.860Z"
   },
   {
    "duration": 9583,
    "start_time": "2022-04-27T12:21:33.914Z"
   },
   {
    "duration": 147,
    "start_time": "2022-04-27T12:21:43.524Z"
   },
   {
    "duration": 225,
    "start_time": "2022-04-27T12:23:00.003Z"
   },
   {
    "duration": 349,
    "start_time": "2022-04-27T12:23:41.083Z"
   },
   {
    "duration": 154,
    "start_time": "2022-04-27T12:25:12.082Z"
   },
   {
    "duration": 142,
    "start_time": "2022-04-27T12:25:19.448Z"
   },
   {
    "duration": 148,
    "start_time": "2022-04-27T12:25:27.766Z"
   },
   {
    "duration": 146,
    "start_time": "2022-04-27T12:25:38.148Z"
   },
   {
    "duration": 1652,
    "start_time": "2022-04-27T12:25:50.007Z"
   },
   {
    "duration": 9598,
    "start_time": "2022-04-27T12:25:51.662Z"
   },
   {
    "duration": 163,
    "start_time": "2022-04-27T12:26:07.980Z"
   },
   {
    "duration": 12,
    "start_time": "2022-04-27T12:26:17.021Z"
   },
   {
    "duration": 78,
    "start_time": "2022-04-27T12:26:19.105Z"
   },
   {
    "duration": 64,
    "start_time": "2022-04-27T12:26:21.226Z"
   },
   {
    "duration": 17,
    "start_time": "2022-04-27T12:26:25.221Z"
   },
   {
    "duration": 466,
    "start_time": "2022-04-27T12:26:29.669Z"
   },
   {
    "duration": 253,
    "start_time": "2022-04-27T12:26:31.666Z"
   },
   {
    "duration": 56,
    "start_time": "2022-04-27T12:26:48.776Z"
   },
   {
    "duration": 19,
    "start_time": "2022-04-27T12:34:01.429Z"
   },
   {
    "duration": 87,
    "start_time": "2022-04-27T12:35:47.733Z"
   },
   {
    "duration": 985,
    "start_time": "2022-04-27T12:36:36.270Z"
   },
   {
    "duration": 964,
    "start_time": "2022-04-27T12:36:51.405Z"
   },
   {
    "duration": 978,
    "start_time": "2022-04-27T12:38:00.598Z"
   },
   {
    "duration": 1013,
    "start_time": "2022-04-27T12:39:50.944Z"
   },
   {
    "duration": 965,
    "start_time": "2022-04-27T12:40:25.296Z"
   },
   {
    "duration": 1008,
    "start_time": "2022-04-27T12:40:32.962Z"
   },
   {
    "duration": 50,
    "start_time": "2022-04-27T13:53:52.169Z"
   },
   {
    "duration": 1473,
    "start_time": "2022-04-27T13:53:56.500Z"
   },
   {
    "duration": 4663,
    "start_time": "2022-04-27T13:53:57.975Z"
   },
   {
    "duration": 98,
    "start_time": "2022-04-27T13:54:02.642Z"
   },
   {
    "duration": 7,
    "start_time": "2022-04-27T13:54:02.742Z"
   },
   {
    "duration": 38,
    "start_time": "2022-04-27T13:54:02.751Z"
   },
   {
    "duration": 59,
    "start_time": "2022-04-27T13:54:02.791Z"
   },
   {
    "duration": 7,
    "start_time": "2022-04-27T13:54:02.852Z"
   },
   {
    "duration": 312,
    "start_time": "2022-04-27T13:54:02.860Z"
   },
   {
    "duration": 104,
    "start_time": "2022-04-27T13:54:03.174Z"
   },
   {
    "duration": 38,
    "start_time": "2022-04-27T13:54:03.279Z"
   },
   {
    "duration": 641,
    "start_time": "2022-04-27T13:54:06.726Z"
   },
   {
    "duration": 659,
    "start_time": "2022-04-27T13:54:15.646Z"
   },
   {
    "duration": 677,
    "start_time": "2022-04-27T13:54:27.596Z"
   },
   {
    "duration": 683,
    "start_time": "2022-04-27T13:55:10.151Z"
   },
   {
    "duration": 797,
    "start_time": "2022-04-27T13:55:43.656Z"
   },
   {
    "duration": 699,
    "start_time": "2022-04-27T13:55:54.569Z"
   },
   {
    "duration": 677,
    "start_time": "2022-04-27T13:56:03.958Z"
   },
   {
    "duration": 670,
    "start_time": "2022-04-27T13:57:34.422Z"
   },
   {
    "duration": 693,
    "start_time": "2022-04-27T13:57:43.802Z"
   },
   {
    "duration": 663,
    "start_time": "2022-04-27T13:58:05.430Z"
   },
   {
    "duration": 771,
    "start_time": "2022-04-27T13:58:51.892Z"
   },
   {
    "duration": 828,
    "start_time": "2022-04-27T14:00:30.783Z"
   },
   {
    "duration": 785,
    "start_time": "2022-04-27T14:00:53.660Z"
   },
   {
    "duration": 759,
    "start_time": "2022-04-27T14:01:26.228Z"
   },
   {
    "duration": 814,
    "start_time": "2022-04-27T14:01:39.528Z"
   },
   {
    "duration": 741,
    "start_time": "2022-04-27T14:02:28.529Z"
   },
   {
    "duration": 3,
    "start_time": "2022-04-27T14:11:52.986Z"
   },
   {
    "duration": 4525,
    "start_time": "2022-04-27T14:11:52.991Z"
   },
   {
    "duration": 80,
    "start_time": "2022-04-27T14:11:57.517Z"
   },
   {
    "duration": 10,
    "start_time": "2022-04-27T14:11:57.599Z"
   },
   {
    "duration": 69,
    "start_time": "2022-04-27T14:11:57.611Z"
   },
   {
    "duration": 49,
    "start_time": "2022-04-27T14:11:57.681Z"
   },
   {
    "duration": 13,
    "start_time": "2022-04-27T14:11:57.738Z"
   },
   {
    "duration": 478,
    "start_time": "2022-04-27T14:11:57.752Z"
   },
   {
    "duration": 101,
    "start_time": "2022-04-27T14:11:58.232Z"
   },
   {
    "duration": 21,
    "start_time": "2022-04-27T14:11:58.335Z"
   },
   {
    "duration": 712,
    "start_time": "2022-04-27T14:11:58.357Z"
   },
   {
    "duration": 34,
    "start_time": "2022-04-27T14:12:23.561Z"
   },
   {
    "duration": 318,
    "start_time": "2022-04-27T14:14:26.123Z"
   },
   {
    "duration": 322,
    "start_time": "2022-04-27T14:15:07.370Z"
   },
   {
    "duration": 319,
    "start_time": "2022-04-27T14:15:17.468Z"
   },
   {
    "duration": 330,
    "start_time": "2022-04-27T14:15:33.761Z"
   },
   {
    "duration": 335,
    "start_time": "2022-04-27T14:16:14.624Z"
   },
   {
    "duration": 359,
    "start_time": "2022-04-27T14:16:58.107Z"
   },
   {
    "duration": 256,
    "start_time": "2022-04-27T14:18:54.394Z"
   },
   {
    "duration": 527,
    "start_time": "2022-04-27T14:19:12.554Z"
   },
   {
    "duration": 503,
    "start_time": "2022-04-27T14:19:25.145Z"
   },
   {
    "duration": 518,
    "start_time": "2022-04-27T14:20:07.459Z"
   },
   {
    "duration": 488,
    "start_time": "2022-04-27T14:20:18.091Z"
   },
   {
    "duration": 305,
    "start_time": "2022-04-27T14:20:37.623Z"
   },
   {
    "duration": 513,
    "start_time": "2022-04-27T14:20:49.629Z"
   },
   {
    "duration": 607,
    "start_time": "2022-04-27T14:21:15.174Z"
   },
   {
    "duration": 541,
    "start_time": "2022-04-27T14:21:28.516Z"
   },
   {
    "duration": 242,
    "start_time": "2022-04-27T14:27:09.326Z"
   },
   {
    "duration": 209,
    "start_time": "2022-04-27T14:27:29.675Z"
   },
   {
    "duration": 201,
    "start_time": "2022-04-27T14:27:47.938Z"
   },
   {
    "duration": 204,
    "start_time": "2022-04-27T14:27:57.051Z"
   },
   {
    "duration": 474,
    "start_time": "2022-04-27T14:28:11.173Z"
   },
   {
    "duration": 208,
    "start_time": "2022-04-27T14:28:52.250Z"
   },
   {
    "duration": 476,
    "start_time": "2022-04-27T14:29:11.030Z"
   },
   {
    "duration": 554,
    "start_time": "2022-04-27T14:29:46.309Z"
   },
   {
    "duration": 740,
    "start_time": "2022-04-27T14:29:58.905Z"
   },
   {
    "duration": 555,
    "start_time": "2022-04-27T14:30:17.712Z"
   },
   {
    "duration": 481,
    "start_time": "2022-04-27T14:32:03.303Z"
   },
   {
    "duration": 522,
    "start_time": "2022-04-27T14:33:00.995Z"
   },
   {
    "duration": 730,
    "start_time": "2022-04-27T14:33:09.744Z"
   },
   {
    "duration": 864,
    "start_time": "2022-04-27T14:34:04.901Z"
   },
   {
    "duration": 520,
    "start_time": "2022-04-27T14:34:16.220Z"
   },
   {
    "duration": 24,
    "start_time": "2022-04-27T14:44:50.831Z"
   },
   {
    "duration": 64,
    "start_time": "2022-04-27T14:45:15.878Z"
   },
   {
    "duration": 23,
    "start_time": "2022-04-27T14:45:44.368Z"
   },
   {
    "duration": 28,
    "start_time": "2022-04-27T14:52:07.940Z"
   },
   {
    "duration": 36,
    "start_time": "2022-04-27T14:52:14.626Z"
   },
   {
    "duration": 28,
    "start_time": "2022-04-27T14:52:26.748Z"
   },
   {
    "duration": 38,
    "start_time": "2022-04-27T14:53:11.859Z"
   },
   {
    "duration": 3656,
    "start_time": "2022-04-27T14:53:29.635Z"
   },
   {
    "duration": 34,
    "start_time": "2022-04-27T14:53:44.715Z"
   },
   {
    "duration": 25,
    "start_time": "2022-04-27T14:53:55.255Z"
   },
   {
    "duration": 170,
    "start_time": "2022-04-27T14:54:31.574Z"
   },
   {
    "duration": 52,
    "start_time": "2022-04-27T14:54:39.225Z"
   },
   {
    "duration": 303,
    "start_time": "2022-04-27T14:54:49.727Z"
   },
   {
    "duration": 50,
    "start_time": "2022-04-27T14:54:59.212Z"
   },
   {
    "duration": 252,
    "start_time": "2022-04-27T14:55:01.128Z"
   },
   {
    "duration": 314,
    "start_time": "2022-04-27T14:56:45.926Z"
   },
   {
    "duration": 292,
    "start_time": "2022-04-27T14:57:21.868Z"
   },
   {
    "duration": 11,
    "start_time": "2022-04-27T14:59:10.478Z"
   },
   {
    "duration": 39,
    "start_time": "2022-04-27T14:59:18.493Z"
   },
   {
    "duration": 16,
    "start_time": "2022-04-27T14:59:21.192Z"
   },
   {
    "duration": 143,
    "start_time": "2022-04-27T14:59:23.522Z"
   },
   {
    "duration": 119,
    "start_time": "2022-04-27T14:59:30.491Z"
   },
   {
    "duration": 112,
    "start_time": "2022-04-27T14:59:55.114Z"
   },
   {
    "duration": 99,
    "start_time": "2022-04-27T15:00:05.589Z"
   },
   {
    "duration": 111,
    "start_time": "2022-04-27T15:00:14.689Z"
   },
   {
    "duration": 1835,
    "start_time": "2022-04-27T16:25:49.990Z"
   },
   {
    "duration": 12529,
    "start_time": "2022-04-27T16:25:52.116Z"
   },
   {
    "duration": 256,
    "start_time": "2022-04-27T16:26:04.648Z"
   },
   {
    "duration": 11,
    "start_time": "2022-04-27T16:26:12.295Z"
   },
   {
    "duration": 62,
    "start_time": "2022-04-27T16:26:14.478Z"
   },
   {
    "duration": 61,
    "start_time": "2022-04-27T16:26:16.539Z"
   },
   {
    "duration": 12,
    "start_time": "2022-04-27T16:26:21.778Z"
   },
   {
    "duration": 490,
    "start_time": "2022-04-27T16:26:26.367Z"
   },
   {
    "duration": 144,
    "start_time": "2022-04-27T16:26:29.735Z"
   },
   {
    "duration": 49,
    "start_time": "2022-04-27T16:27:26.574Z"
   },
   {
    "duration": 1090,
    "start_time": "2022-04-27T16:27:42.036Z"
   },
   {
    "duration": 1235,
    "start_time": "2022-04-27T16:27:54.674Z"
   },
   {
    "duration": 1287,
    "start_time": "2022-04-27T16:30:30.000Z"
   },
   {
    "duration": 35,
    "start_time": "2022-04-27T16:30:50.120Z"
   },
   {
    "duration": 19,
    "start_time": "2022-04-27T16:31:01.050Z"
   },
   {
    "duration": 271,
    "start_time": "2022-04-27T16:31:04.388Z"
   },
   {
    "duration": 308,
    "start_time": "2022-04-27T16:32:11.676Z"
   },
   {
    "duration": 268,
    "start_time": "2022-04-27T16:34:42.344Z"
   },
   {
    "duration": 258,
    "start_time": "2022-04-27T16:35:26.085Z"
   },
   {
    "duration": 335,
    "start_time": "2022-04-27T16:35:42.711Z"
   },
   {
    "duration": 270,
    "start_time": "2022-04-27T16:36:01.176Z"
   },
   {
    "duration": 275,
    "start_time": "2022-04-27T16:36:10.027Z"
   },
   {
    "duration": 139,
    "start_time": "2022-04-27T16:38:09.995Z"
   },
   {
    "duration": 153,
    "start_time": "2022-04-27T16:38:21.288Z"
   },
   {
    "duration": 196,
    "start_time": "2022-04-27T16:38:34.104Z"
   },
   {
    "duration": 257,
    "start_time": "2022-04-27T16:41:13.242Z"
   },
   {
    "duration": 272,
    "start_time": "2022-04-27T16:42:09.057Z"
   },
   {
    "duration": 292,
    "start_time": "2022-04-27T16:44:29.916Z"
   },
   {
    "duration": 381,
    "start_time": "2022-04-27T16:46:53.718Z"
   },
   {
    "duration": 364,
    "start_time": "2022-04-27T16:47:57.528Z"
   },
   {
    "duration": 500,
    "start_time": "2022-04-27T16:49:43.757Z"
   },
   {
    "duration": 1586,
    "start_time": "2022-04-27T16:50:23.988Z"
   },
   {
    "duration": 14682,
    "start_time": "2022-04-27T16:50:25.577Z"
   },
   {
    "duration": 254,
    "start_time": "2022-04-27T16:50:40.281Z"
   },
   {
    "duration": 15,
    "start_time": "2022-04-27T16:50:40.540Z"
   },
   {
    "duration": 131,
    "start_time": "2022-04-27T16:50:40.558Z"
   },
   {
    "duration": 111,
    "start_time": "2022-04-27T16:50:40.692Z"
   },
   {
    "duration": 12,
    "start_time": "2022-04-27T16:50:40.806Z"
   },
   {
    "duration": 464,
    "start_time": "2022-04-27T16:50:40.820Z"
   },
   {
    "duration": 237,
    "start_time": "2022-04-27T16:50:41.289Z"
   },
   {
    "duration": 68,
    "start_time": "2022-04-27T16:50:41.531Z"
   },
   {
    "duration": 1825,
    "start_time": "2022-04-27T16:50:41.602Z"
   },
   {
    "duration": 1474,
    "start_time": "2022-04-27T16:50:43.429Z"
   },
   {
    "duration": 56,
    "start_time": "2022-04-27T16:50:44.906Z"
   },
   {
    "duration": 159,
    "start_time": "2022-04-27T16:50:56.539Z"
   },
   {
    "duration": 157,
    "start_time": "2022-04-27T16:51:03.391Z"
   },
   {
    "duration": 108,
    "start_time": "2022-04-27T16:51:11.224Z"
   },
   {
    "duration": 146,
    "start_time": "2022-04-27T16:51:50.443Z"
   },
   {
    "duration": 209,
    "start_time": "2022-04-27T16:52:13.556Z"
   },
   {
    "duration": 94,
    "start_time": "2022-04-27T16:52:25.974Z"
   },
   {
    "duration": 129,
    "start_time": "2022-04-27T16:52:41.469Z"
   },
   {
    "duration": 62,
    "start_time": "2022-04-27T16:52:52.474Z"
   },
   {
    "duration": 81,
    "start_time": "2022-04-27T16:53:03.002Z"
   },
   {
    "duration": 95,
    "start_time": "2022-04-27T16:54:03.181Z"
   },
   {
    "duration": 92,
    "start_time": "2022-04-27T16:54:18.663Z"
   },
   {
    "duration": 95,
    "start_time": "2022-04-27T16:55:12.104Z"
   },
   {
    "duration": 97,
    "start_time": "2022-04-27T16:56:23.719Z"
   },
   {
    "duration": 57,
    "start_time": "2022-04-27T16:56:35.015Z"
   },
   {
    "duration": 93,
    "start_time": "2022-04-27T16:57:13.369Z"
   },
   {
    "duration": 58,
    "start_time": "2022-04-27T16:57:26.163Z"
   },
   {
    "duration": 87,
    "start_time": "2022-04-27T16:58:19.484Z"
   },
   {
    "duration": 60,
    "start_time": "2022-04-27T16:59:01.685Z"
   },
   {
    "duration": 61,
    "start_time": "2022-04-27T16:59:08.411Z"
   },
   {
    "duration": 268,
    "start_time": "2022-04-27T16:59:17.132Z"
   },
   {
    "duration": 271,
    "start_time": "2022-04-27T16:59:53.659Z"
   },
   {
    "duration": 52,
    "start_time": "2022-04-27T17:00:26.273Z"
   },
   {
    "duration": 364,
    "start_time": "2022-04-27T17:01:29.120Z"
   },
   {
    "duration": 53,
    "start_time": "2022-04-27T17:02:53.193Z"
   },
   {
    "duration": 26,
    "start_time": "2022-04-27T17:03:23.363Z"
   },
   {
    "duration": 163,
    "start_time": "2022-04-27T17:03:46.018Z"
   },
   {
    "duration": 13,
    "start_time": "2022-04-27T17:03:50.719Z"
   },
   {
    "duration": 274,
    "start_time": "2022-04-27T17:04:47.887Z"
   },
   {
    "duration": 1565,
    "start_time": "2022-04-27T17:05:47.138Z"
   },
   {
    "duration": 9177,
    "start_time": "2022-04-27T17:05:48.706Z"
   },
   {
    "duration": 171,
    "start_time": "2022-04-27T17:05:57.885Z"
   },
   {
    "duration": 11,
    "start_time": "2022-04-27T17:05:58.058Z"
   },
   {
    "duration": 72,
    "start_time": "2022-04-27T17:05:58.083Z"
   },
   {
    "duration": 69,
    "start_time": "2022-04-27T17:05:58.158Z"
   },
   {
    "duration": 12,
    "start_time": "2022-04-27T17:05:58.229Z"
   },
   {
    "duration": 493,
    "start_time": "2022-04-27T17:05:58.244Z"
   },
   {
    "duration": 150,
    "start_time": "2022-04-27T17:05:58.739Z"
   },
   {
    "duration": 34,
    "start_time": "2022-04-27T17:05:58.892Z"
   },
   {
    "duration": 1071,
    "start_time": "2022-04-27T17:05:58.928Z"
   },
   {
    "duration": 984,
    "start_time": "2022-04-27T17:06:00.001Z"
   },
   {
    "duration": 37,
    "start_time": "2022-04-27T17:06:00.987Z"
   },
   {
    "duration": 90,
    "start_time": "2022-04-27T17:06:01.028Z"
   },
   {
    "duration": 287,
    "start_time": "2022-04-27T17:06:01.121Z"
   },
   {
    "duration": 294,
    "start_time": "2022-04-27T17:06:01.410Z"
   },
   {
    "duration": 97,
    "start_time": "2022-04-27T17:06:01.706Z"
   },
   {
    "duration": 656,
    "start_time": "2022-04-27T17:06:01.805Z"
   },
   {
    "duration": 89,
    "start_time": "2022-04-27T17:06:02.463Z"
   },
   {
    "duration": 558,
    "start_time": "2022-04-27T17:06:02.554Z"
   },
   {
    "duration": 1923,
    "start_time": "2022-04-28T14:25:48.342Z"
   },
   {
    "duration": 12189,
    "start_time": "2022-04-28T14:25:50.268Z"
   },
   {
    "duration": 186,
    "start_time": "2022-04-28T14:26:02.459Z"
   },
   {
    "duration": 13,
    "start_time": "2022-04-28T14:26:02.649Z"
   },
   {
    "duration": 77,
    "start_time": "2022-04-28T14:26:02.665Z"
   },
   {
    "duration": 74,
    "start_time": "2022-04-28T14:26:02.744Z"
   },
   {
    "duration": 11,
    "start_time": "2022-04-28T14:26:02.820Z"
   },
   {
    "duration": 601,
    "start_time": "2022-04-28T14:26:02.834Z"
   },
   {
    "duration": 145,
    "start_time": "2022-04-28T14:26:03.437Z"
   },
   {
    "duration": 34,
    "start_time": "2022-04-28T14:26:03.585Z"
   },
   {
    "duration": 1069,
    "start_time": "2022-04-28T14:26:03.622Z"
   },
   {
    "duration": 973,
    "start_time": "2022-04-28T14:26:04.693Z"
   },
   {
    "duration": 45,
    "start_time": "2022-04-28T14:26:05.668Z"
   },
   {
    "duration": 82,
    "start_time": "2022-04-28T14:26:05.715Z"
   },
   {
    "duration": 260,
    "start_time": "2022-04-28T14:26:05.799Z"
   },
   {
    "duration": 284,
    "start_time": "2022-04-28T14:26:06.061Z"
   },
   {
    "duration": 102,
    "start_time": "2022-04-28T14:26:06.348Z"
   },
   {
    "duration": 557,
    "start_time": "2022-04-28T14:26:06.453Z"
   },
   {
    "duration": 87,
    "start_time": "2022-04-28T14:26:07.012Z"
   },
   {
    "duration": 552,
    "start_time": "2022-04-28T14:26:07.101Z"
   },
   {
    "duration": 1306,
    "start_time": "2022-04-29T06:48:05.474Z"
   },
   {
    "duration": 4335,
    "start_time": "2022-04-29T06:48:06.782Z"
   },
   {
    "duration": 106,
    "start_time": "2022-04-29T06:48:11.119Z"
   },
   {
    "duration": 8,
    "start_time": "2022-04-29T06:48:11.228Z"
   },
   {
    "duration": 59,
    "start_time": "2022-04-29T06:48:11.238Z"
   },
   {
    "duration": 46,
    "start_time": "2022-04-29T06:48:11.298Z"
   },
   {
    "duration": 10,
    "start_time": "2022-04-29T06:48:11.345Z"
   },
   {
    "duration": 290,
    "start_time": "2022-04-29T06:48:11.357Z"
   },
   {
    "duration": 91,
    "start_time": "2022-04-29T06:48:11.649Z"
   },
   {
    "duration": 33,
    "start_time": "2022-04-29T06:48:11.742Z"
   },
   {
    "duration": 616,
    "start_time": "2022-04-29T06:48:11.777Z"
   },
   {
    "duration": 539,
    "start_time": "2022-04-29T06:48:12.394Z"
   },
   {
    "duration": 36,
    "start_time": "2022-04-29T06:48:12.934Z"
   },
   {
    "duration": 39,
    "start_time": "2022-04-29T06:48:12.971Z"
   },
   {
    "duration": 143,
    "start_time": "2022-04-29T06:48:13.012Z"
   },
   {
    "duration": 147,
    "start_time": "2022-04-29T06:48:13.157Z"
   },
   {
    "duration": 61,
    "start_time": "2022-04-29T06:48:13.305Z"
   },
   {
    "duration": 281,
    "start_time": "2022-04-29T06:48:13.368Z"
   },
   {
    "duration": 49,
    "start_time": "2022-04-29T06:48:13.654Z"
   },
   {
    "duration": 292,
    "start_time": "2022-04-29T06:48:13.705Z"
   },
   {
    "duration": 3,
    "start_time": "2022-04-29T07:03:56.465Z"
   },
   {
    "duration": 1310,
    "start_time": "2022-04-29T07:08:21.064Z"
   },
   {
    "duration": 1225,
    "start_time": "2022-04-30T10:18:10.704Z"
   },
   {
    "duration": 4602,
    "start_time": "2022-04-30T10:18:11.931Z"
   },
   {
    "duration": 119,
    "start_time": "2022-04-30T10:18:16.535Z"
   },
   {
    "duration": 8,
    "start_time": "2022-04-30T10:18:16.656Z"
   },
   {
    "duration": 58,
    "start_time": "2022-04-30T10:18:16.666Z"
   },
   {
    "duration": 40,
    "start_time": "2022-04-30T10:18:16.726Z"
   },
   {
    "duration": 8,
    "start_time": "2022-04-30T10:18:16.768Z"
   },
   {
    "duration": 605,
    "start_time": "2022-04-30T10:18:16.778Z"
   },
   {
    "duration": 354,
    "start_time": "2022-04-30T10:18:17.385Z"
   },
   {
    "duration": 112,
    "start_time": "2022-04-30T10:18:17.743Z"
   },
   {
    "duration": 27,
    "start_time": "2022-04-30T10:18:17.857Z"
   },
   {
    "duration": 751,
    "start_time": "2022-04-30T10:18:17.886Z"
   },
   {
    "duration": 710,
    "start_time": "2022-04-30T10:18:18.639Z"
   },
   {
    "duration": 28,
    "start_time": "2022-04-30T10:18:19.350Z"
   },
   {
    "duration": 63,
    "start_time": "2022-04-30T10:18:19.380Z"
   },
   {
    "duration": 170,
    "start_time": "2022-04-30T10:18:19.445Z"
   },
   {
    "duration": 188,
    "start_time": "2022-04-30T10:18:19.617Z"
   },
   {
    "duration": 65,
    "start_time": "2022-04-30T10:18:19.808Z"
   },
   {
    "duration": 363,
    "start_time": "2022-04-30T10:18:19.875Z"
   },
   {
    "duration": 74,
    "start_time": "2022-04-30T10:18:20.240Z"
   },
   {
    "duration": 339,
    "start_time": "2022-04-30T10:18:20.316Z"
   },
   {
    "duration": 6,
    "start_time": "2022-04-30T10:21:56.871Z"
   },
   {
    "duration": 5,
    "start_time": "2022-04-30T10:23:17.361Z"
   },
   {
    "duration": 4,
    "start_time": "2022-04-30T10:23:24.250Z"
   },
   {
    "duration": 3,
    "start_time": "2022-04-30T10:23:30.188Z"
   },
   {
    "duration": 22,
    "start_time": "2022-04-30T10:24:27.200Z"
   },
   {
    "duration": 17,
    "start_time": "2022-04-30T10:25:14.104Z"
   },
   {
    "duration": 118,
    "start_time": "2022-04-30T10:30:24.642Z"
   },
   {
    "duration": 24,
    "start_time": "2022-04-30T10:30:49.701Z"
   },
   {
    "duration": 119,
    "start_time": "2022-04-30T16:11:43.207Z"
   },
   {
    "duration": 2425,
    "start_time": "2022-04-30T16:11:52.321Z"
   },
   {
    "duration": 12480,
    "start_time": "2022-04-30T16:11:54.750Z"
   },
   {
    "duration": 241,
    "start_time": "2022-04-30T16:12:07.234Z"
   },
   {
    "duration": 17,
    "start_time": "2022-04-30T16:12:07.479Z"
   },
   {
    "duration": 112,
    "start_time": "2022-04-30T16:12:12.672Z"
   },
   {
    "duration": 101,
    "start_time": "2022-04-30T16:12:15.319Z"
   },
   {
    "duration": 14,
    "start_time": "2022-04-30T16:12:19.019Z"
   },
   {
    "duration": 18,
    "start_time": "2022-04-30T16:12:28.566Z"
   },
   {
    "duration": 36,
    "start_time": "2022-04-30T16:12:37.772Z"
   },
   {
    "duration": 29,
    "start_time": "2022-04-30T16:12:58.688Z"
   },
   {
    "duration": 30,
    "start_time": "2022-04-30T16:13:44.031Z"
   },
   {
    "duration": 29,
    "start_time": "2022-04-30T16:13:55.273Z"
   },
   {
    "duration": 29,
    "start_time": "2022-04-30T16:14:06.461Z"
   },
   {
    "duration": 788,
    "start_time": "2022-04-30T16:15:25.193Z"
   },
   {
    "duration": 54,
    "start_time": "2022-04-30T16:16:57.502Z"
   },
   {
    "duration": 49,
    "start_time": "2022-04-30T16:17:13.332Z"
   },
   {
    "duration": 48,
    "start_time": "2022-04-30T16:17:47.200Z"
   },
   {
    "duration": 63,
    "start_time": "2022-04-30T16:18:06.257Z"
   },
   {
    "duration": 56,
    "start_time": "2022-04-30T16:18:15.746Z"
   },
   {
    "duration": 5,
    "start_time": "2022-04-30T17:08:08.283Z"
   },
   {
    "duration": 8988,
    "start_time": "2022-04-30T17:08:09.646Z"
   },
   {
    "duration": 173,
    "start_time": "2022-04-30T17:08:18.636Z"
   },
   {
    "duration": 11,
    "start_time": "2022-04-30T17:08:18.811Z"
   },
   {
    "duration": 85,
    "start_time": "2022-04-30T17:08:18.826Z"
   },
   {
    "duration": 68,
    "start_time": "2022-04-30T17:08:18.913Z"
   },
   {
    "duration": 61,
    "start_time": "2022-04-30T17:08:27.006Z"
   },
   {
    "duration": 10,
    "start_time": "2022-04-30T17:08:29.039Z"
   },
   {
    "duration": 37,
    "start_time": "2022-04-30T17:09:41.596Z"
   },
   {
    "duration": 1868,
    "start_time": "2022-04-30T17:11:30.164Z"
   },
   {
    "duration": 103,
    "start_time": "2022-04-30T17:12:08.041Z"
   },
   {
    "duration": 35,
    "start_time": "2022-04-30T17:12:31.625Z"
   },
   {
    "duration": 48,
    "start_time": "2022-04-30T17:13:30.088Z"
   },
   {
    "duration": 44,
    "start_time": "2022-04-30T17:15:29.149Z"
   },
   {
    "duration": 61,
    "start_time": "2022-04-30T17:16:58.629Z"
   },
   {
    "duration": 45,
    "start_time": "2022-04-30T17:17:10.773Z"
   },
   {
    "duration": 55,
    "start_time": "2022-04-30T17:17:17.879Z"
   },
   {
    "duration": 69,
    "start_time": "2022-04-30T17:17:26.554Z"
   },
   {
    "duration": 50,
    "start_time": "2022-04-30T17:17:38.508Z"
   },
   {
    "duration": 50,
    "start_time": "2022-04-30T17:18:49.267Z"
   },
   {
    "duration": 49,
    "start_time": "2022-04-30T17:18:57.548Z"
   },
   {
    "duration": 50,
    "start_time": "2022-04-30T18:57:06.907Z"
   },
   {
    "duration": 16,
    "start_time": "2022-04-30T18:57:06.982Z"
   },
   {
    "duration": 5,
    "start_time": "2022-04-30T18:57:28.683Z"
   },
   {
    "duration": 9424,
    "start_time": "2022-04-30T18:57:28.691Z"
   },
   {
    "duration": 166,
    "start_time": "2022-04-30T18:57:38.118Z"
   },
   {
    "duration": 15,
    "start_time": "2022-04-30T18:57:38.288Z"
   },
   {
    "duration": 85,
    "start_time": "2022-04-30T18:57:38.306Z"
   },
   {
    "duration": 58,
    "start_time": "2022-04-30T18:57:38.393Z"
   },
   {
    "duration": 28,
    "start_time": "2022-04-30T18:57:38.454Z"
   },
   {
    "duration": 986,
    "start_time": "2022-04-30T18:57:38.484Z"
   },
   {
    "duration": 1091,
    "start_time": "2022-04-30T18:57:39.473Z"
   },
   {
    "duration": 248,
    "start_time": "2022-04-30T18:57:40.569Z"
   },
   {
    "duration": 28,
    "start_time": "2022-04-30T18:57:40.819Z"
   },
   {
    "duration": 1361,
    "start_time": "2022-04-30T18:57:40.850Z"
   },
   {
    "duration": 1018,
    "start_time": "2022-04-30T18:57:42.214Z"
   },
   {
    "duration": 49,
    "start_time": "2022-04-30T18:57:43.234Z"
   },
   {
    "duration": 58,
    "start_time": "2022-04-30T18:57:43.285Z"
   },
   {
    "duration": 279,
    "start_time": "2022-04-30T18:57:43.345Z"
   },
   {
    "duration": 305,
    "start_time": "2022-04-30T18:57:43.626Z"
   },
   {
    "duration": 54,
    "start_time": "2022-04-30T18:59:36.922Z"
   },
   {
    "duration": 60,
    "start_time": "2022-04-30T19:00:36.231Z"
   },
   {
    "duration": 18,
    "start_time": "2022-04-30T19:13:05.985Z"
   },
   {
    "duration": 100,
    "start_time": "2022-04-30T19:21:55.980Z"
   },
   {
    "duration": 4,
    "start_time": "2022-04-30T19:22:05.626Z"
   },
   {
    "duration": 66,
    "start_time": "2022-04-30T19:22:16.028Z"
   },
   {
    "duration": 67,
    "start_time": "2022-04-30T19:22:26.460Z"
   },
   {
    "duration": 12,
    "start_time": "2022-04-30T19:22:39.657Z"
   },
   {
    "duration": 5,
    "start_time": "2022-04-30T19:22:46.480Z"
   },
   {
    "duration": 84,
    "start_time": "2022-04-30T19:22:55.163Z"
   },
   {
    "duration": 104,
    "start_time": "2022-04-30T19:23:22.051Z"
   },
   {
    "duration": 7,
    "start_time": "2022-04-30T19:43:56.862Z"
   },
   {
    "duration": 61,
    "start_time": "2022-04-30T19:47:01.630Z"
   },
   {
    "duration": 3,
    "start_time": "2022-04-30T19:49:00.897Z"
   },
   {
    "duration": 71,
    "start_time": "2022-04-30T19:50:37.158Z"
   },
   {
    "duration": 87,
    "start_time": "2022-04-30T19:50:46.533Z"
   },
   {
    "duration": 82,
    "start_time": "2022-04-30T19:50:56.327Z"
   },
   {
    "duration": 86,
    "start_time": "2022-04-30T19:51:21.737Z"
   },
   {
    "duration": 67,
    "start_time": "2022-04-30T19:51:33.805Z"
   },
   {
    "duration": 69,
    "start_time": "2022-04-30T19:52:08.821Z"
   },
   {
    "duration": 89,
    "start_time": "2022-04-30T19:52:38.413Z"
   },
   {
    "duration": 90,
    "start_time": "2022-04-30T19:53:13.537Z"
   },
   {
    "duration": 84,
    "start_time": "2022-04-30T19:54:09.240Z"
   },
   {
    "duration": 38,
    "start_time": "2022-04-30T19:58:42.903Z"
   },
   {
    "duration": 46,
    "start_time": "2022-04-30T19:59:54.943Z"
   },
   {
    "duration": 54,
    "start_time": "2022-04-30T20:00:50.750Z"
   },
   {
    "duration": 63,
    "start_time": "2022-04-30T20:00:59.470Z"
   },
   {
    "duration": 48,
    "start_time": "2022-04-30T20:01:44.022Z"
   },
   {
    "duration": 91,
    "start_time": "2022-04-30T20:10:46.362Z"
   },
   {
    "duration": 65,
    "start_time": "2022-04-30T20:10:59.618Z"
   }
  ],
  "kernelspec": {
   "display_name": "Python 3",
   "language": "python",
   "name": "python3"
  },
  "language_info": {
   "codemirror_mode": {
    "name": "ipython",
    "version": 3
   },
   "file_extension": ".py",
   "mimetype": "text/x-python",
   "name": "python",
   "nbconvert_exporter": "python",
   "pygments_lexer": "ipython3",
   "version": "3.8.8"
  },
  "toc": {
   "base_numbering": 1,
   "nav_menu": {},
   "number_sections": false,
   "sideBar": true,
   "skip_h1_title": true,
   "title_cell": "Table of Contents",
   "title_sidebar": "Contents",
   "toc_cell": false,
   "toc_position": {},
   "toc_section_display": true,
   "toc_window_display": false
  }
 },
 "nbformat": 4,
 "nbformat_minor": 2
}
