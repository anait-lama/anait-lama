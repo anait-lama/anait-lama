{
 "cells": [
  {
   "cell_type": "markdown",
   "id": "1b0986a7",
   "metadata": {},
   "source": [
    "# Flagged words check\n",
    "\n",
    "The goal of this project is to automize the process of the flagged words checks during the <b>sub QA</b> process. The project will be done in the following steps:\n",
    "\n",
    "<a href='#1'> 1. Data preprocessing </a>\n",
    "\n",
    "<a href='#2'>2. Flagged words search</a>\n",
    "\n",
    "<a href='#3'>3. Analysis of the flagged words</a>\n",
    "\n",
    "<a href='#4'>4. Conclusion</a>"
   ]
  },
  {
   "cell_type": "markdown",
   "id": "43ad34b2",
   "metadata": {},
   "source": [
    "<a id='1'></a> \n",
    " ### 1. Data preprocessing"
   ]
  },
  {
   "cell_type": "code",
   "execution_count": 1,
   "id": "0a2d05e5",
   "metadata": {},
   "outputs": [],
   "source": [
    "#import libraries\n",
    "import pandas as pd\n",
    "import numpy as np\n",
    "import gspread\n",
    "from oauth2client.service_account import ServiceAccountCredentials\n",
    "from pandas.io.json import json_normalize"
   ]
  },
  {
   "cell_type": "code",
   "execution_count": 2,
   "id": "771e4f01",
   "metadata": {},
   "outputs": [
    {
     "name": "stderr",
     "output_type": "stream",
     "text": [
      "/opt/anaconda3/lib/python3.8/site-packages/IPython/core/interactiveshell.py:3165: DtypeWarning: Columns (73,74,75,135,136,137,169) have mixed types.Specify dtype option on import or set low_memory=False.\n",
      "  has_raised = await self.run_ast_nodes(code_ast.body, cell_name,\n"
     ]
    }
   ],
   "source": [
    "#import dataset\n",
    "df = pd.read_csv('submissions_project_14564_20211219175212_91.csv')"
   ]
  },
  {
   "cell_type": "code",
   "execution_count": 3,
   "id": "23fe4bad",
   "metadata": {},
   "outputs": [],
   "source": [
    "#remove columns that might distort our results\n",
    "column_names_list = ['please_scan',\n",
    "                    'please_share_a_picture',\n",
    "                    'please_take_a_photo',\n",
    "                    'please_take_the_photo',\n",
    "                    'please_upload',\n",
    "                    'we_would_like_to_see_a_picture',\n",
    "                    'please_take_a_screenshot',\n",
    "                    'you_work',\n",
    "                    'status'\n",
    "                    ]\n",
    "\n",
    "def columns_drop(df, column_name):\n",
    "    result = []\n",
    "    for name in column_name:\n",
    "        result = df.drop(df.columns[df.columns.str.contains(name)], axis=1)\n",
    "        df = result\n",
    "    return result\n",
    "\n",
    "df_update = columns_drop(df, column_names_list)\n",
    "\n",
    "df_update = df_update.astype(str).apply(lambda x: x.str.lower())\n",
    "df_update['id'] = df_update['id'].astype('int')"
   ]
  },
  {
   "cell_type": "code",
   "execution_count": 4,
   "id": "a689c9fa",
   "metadata": {},
   "outputs": [],
   "source": [
    "#import flagged words list from GoogleSheets\n",
    "scope = ['https://spreadsheets.google.com/feeds']\n",
    "credentials = ServiceAccountCredentials.from_json_keyfile_name('/Users/anaitagadzhanyan/Desktop/Практикум/extreme-minutia-321117-677aeb6efe7b.json', scope)\n",
    "gc = gspread.authorize(credentials)\n",
    "spreadsheet_key = '1ss6VRW29xQOynuzhm2VG_0Wu4YLf1pM9omnQXxkHrPs'\n",
    "book = gc.open_by_key(spreadsheet_key)\n",
    "worksheet = book.worksheet(\"sheet\")\n",
    "table = worksheet.get_all_values()\n",
    "\n",
    "list = []\n",
    "df_dataframe = pd.DataFrame(table)\n",
    "list = df_dataframe[0]\n",
    "flagged_words_list = df_dataframe[0].to_list()"
   ]
  },
  {
   "cell_type": "markdown",
   "id": "6e9f0bba",
   "metadata": {},
   "source": [
    "The original dataset contains many columns, but for our flagged words analysis we only need columns with the open text (OT) answers and the `submission_id` column. One way to do this is to manually select columns with OT answers, which would take a lot of time. Therefore we decided to remove some columns <b>without</b> OT answers that contain flagged words (such as \"streetbees\" as a part of the link) and therefore distort our results.\n",
    "\n",
    "We have also converted the string values to lower case and `submission_id` to an integer type.\n",
    "\n",
    "We have also imported the `flagged words sheet` from a Google Sheet file."
   ]
  },
  {
   "cell_type": "markdown",
   "id": "e2755923",
   "metadata": {},
   "source": [
    "<a id='2'></a> \n",
    " ### 2. Flagged word search"
   ]
  },
  {
   "cell_type": "code",
   "execution_count": 5,
   "id": "75d6059c",
   "metadata": {},
   "outputs": [],
   "source": [
    "#Applying function\n",
    "def flagged_words_function(df, words):\n",
    "    result = []\n",
    "    result_append = []\n",
    "    df.index = df['id']\n",
    "    for word in words:\n",
    "        mask = df.applymap(lambda x: isinstance(x, str) and word in x)\n",
    "        df_mask = df[mask]\n",
    "        result_append.append(df_mask)\n",
    "    result_append = pd.concat(result_append)\n",
    "    return result_append\n",
    "\n",
    "df_result = flagged_words_function(df_update, flagged_words_list).dropna(how='all').drop_duplicates()\n",
    "df_result_new = pd.DataFrame(df_result.replace(0, np.nan).stack())\n",
    "\n",
    "df_result_new.to_excel(\"flagged_words.xlsx\")"
   ]
  },
  {
   "cell_type": "markdown",
   "id": "5ccd36b8",
   "metadata": {},
   "source": [
    "As a result of applying the function, we get an excel sheet with the `submission_id`, question and the answer if it contains a flagged word."
   ]
  },
  {
   "cell_type": "markdown",
   "id": "d2ea4527",
   "metadata": {},
   "source": [
    "<a id='3'></a> \n",
    " ### 3. Analysis of the flagged words"
   ]
  },
  {
   "cell_type": "markdown",
   "id": "24a53532",
   "metadata": {},
   "source": [
    "Further, we can look through the resulting file and if we see a suspicious OT answer, copy-paste the `submission id` to the Admin and have a closer look at the submission."
   ]
  },
  {
   "cell_type": "markdown",
   "id": "31a63183",
   "metadata": {},
   "source": [
    "<a id='4'></a> \n",
    " ### 4. Conclusion"
   ]
  },
  {
   "cell_type": "markdown",
   "id": "986e703c",
   "metadata": {},
   "source": [
    "As a result of the automated process of the flagged words check we can exclude the human mistake (e. g. QA specialist missing a word) and save time. We only need to spend some time updating the script with the list of columns that may contain links or non-Ot answers that may distort the results. "
   ]
  },
  {
   "cell_type": "code",
   "execution_count": null,
   "id": "0960362d",
   "metadata": {},
   "outputs": [],
   "source": []
  }
 ],
 "metadata": {
  "kernelspec": {
   "display_name": "Python 3",
   "language": "python",
   "name": "python3"
  },
  "language_info": {
   "codemirror_mode": {
    "name": "ipython",
    "version": 3
   },
   "file_extension": ".py",
   "mimetype": "text/x-python",
   "name": "python",
   "nbconvert_exporter": "python",
   "pygments_lexer": "ipython3",
   "version": "3.8.8"
  }
 },
 "nbformat": 4,
 "nbformat_minor": 5
}
